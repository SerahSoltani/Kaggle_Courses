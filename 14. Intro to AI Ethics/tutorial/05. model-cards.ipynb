{
 "cells": [
  {
   "cell_type": "markdown",
   "id": "certain-mainland",
   "metadata": {
    "papermill": {
     "duration": 0.005479,
     "end_time": "2021-06-03T16:38:13.553742",
     "exception": false,
     "start_time": "2021-06-03T16:38:13.548263",
     "status": "completed"
    },
    "tags": []
   },
   "source": [
    "# Introduction\n",
    " \n",
    "A **model card** is a short document that provides key information about a machine learning model.  Model cards increase transparency by communicating information about trained models to broad audiences.\n",
    " \n",
    "In this tutorial, you will learn about which audiences to write a model card for and which sections a model card should contain.  Then, in the following **[exercise](https://www.kaggle.com/kernels/fork/15577440)**, you will apply what you have learned to a couple of real-world scenarios."
   ]
  },
  {
   "cell_type": "markdown",
   "id": "difficult-oracle",
   "metadata": {
    "papermill": {
     "duration": 0.004199,
     "end_time": "2021-06-03T16:38:13.562942",
     "exception": false,
     "start_time": "2021-06-03T16:38:13.558743",
     "status": "completed"
    },
    "tags": []
   },
   "source": [
    "# Model cards\n",
    " \n",
    "Though AI systems are playing increasingly important roles in every industry, few people understand how these systems work. AI researchers are exploring many ways to communicate key information about models to inform people who use AI systems, people who are affected by AI systems and others.\n",
    "\n",
    "Model cards - introduced in a [2019 paper](https://arxiv.org/abs/1810.03993) - are one way for teams to communicate key information about their AI system to a broad audience. This information generally includes intended uses for the model, how the model works, and how the model performs in different situations.\n",
    "\n",
    "You can think of model cards as similar to the nutritional labels that you find on packaged foods.\n",
    "\n",
    "# Examples of model cards\n",
    "\n",
    "Before we continue, it might be useful to briefly skim some examples of model cards. \n",
    "- [Salesforce's model cards](https://blog.einstein.ai/model-cards-for-ai-model-transparency/)\n",
    "- [Open AI’s model card for GPT-3](https://github.com/openai/gpt-3/blob/master/model-card.md)\n",
    "- [Google Cloud's example model cards](https://modelcards.withgoogle.com/face-detection)\n",
    "\n",
    "# Who is the audience of your model card?\n",
    "\n",
    "A model card should strike a balance between being easy-to-understand and communicating important technical information. When writing a model card, you should consider your audience: the groups of people who are most likely to read your model card. These groups will vary according to the AI system’s purpose. \n",
    "\n",
    "For example, a model card for an AI system that helps medical professionals interpret x-rays to better diagnose musculoskeletal injuries is likely to be read by medical professionals, scientists, patients, researchers, policymakers and developers of similar AI systems. The model card may therefore assume some knowledge of health care and of AI systems. "
   ]
  },
  {
   "cell_type": "markdown",
   "id": "headed-drunk",
   "metadata": {
    "papermill": {
     "duration": 0.004234,
     "end_time": "2021-06-03T16:38:13.571689",
     "exception": false,
     "start_time": "2021-06-03T16:38:13.567455",
     "status": "completed"
    },
    "tags": []
   },
   "source": [
    "# What sections should a model card contain?\n",
    "\n",
    "Per the original paper, a model card should have the following nine sections. Note that different organizations may add, subtract or rearrange model card sections according to their needs (and you may have noticed this in some of the examples above).\n",
    "\n",
    "As you read about the different sections, you're encouraged to review the two example model cards from the original paper.  Before proceeding, open each of these model card examples in a new window:\n",
    "- [Model Card - Smiling Detection in Images](https://github.com/Kaggle/learntools/blob/master/notebooks/ethics/pdfs/smiling_in_images_model_card.pdf)\n",
    "- [Model Card - Toxicity in Text](https://github.com/Kaggle/learntools/blob/master/notebooks/ethics/pdfs/toxicity_in_text_model_card.pdf)\n",
    "\n",
    "## 1. Model Details     \n",
    "* Include background information, such as developer and model version.\n",
    " \n",
    "## 2. Intended Use\n",
    "- What use cases are in scope?\n",
    "- Who are your intended users?\n",
    "- What use cases are out of scope?\n",
    " \n",
    "## 3. Factors\n",
    "- What factors affect the impact of the model? For example, the smiling detection model's results vary by demographic factors like age, gender or ethnicity, environmental factors like lighting or rain and instrumentation like camera type.\n",
    " \n",
    "## 4. Metrics\n",
    "- What metrics are you using to measure the performance of the model? Why did you pick those metrics?\n",
    "  - For **classification systems** – in which the output is a class label – potential error types include false positive rate, false negative rate, false discovery rate, and false omission rate. The relative importance of each of these depends on the use case.\n",
    "  - For **score-based analyses** – in which the output is a score or price – consider reporting model performance across groups.\n",
    "\n",
    " \n",
    "## 5. Evaluation Data\n",
    "- Which datasets did you use to evaluate model performance?  Provide the datasets if you can.\n",
    "- Why did you choose these datasets for evaluation?\n",
    "- Are the datasets representative of typical use cases, anticipated test cases and/or challenging cases?\n",
    " \n",
    "## 6. Training Data\n",
    "- Which data was the model trained on?\n",
    " \n",
    "## 7. Quantitative Analyses\n",
    "- How did the model perform on the metrics you chose? Break down performance by important factors and their intersections. For example, in the smiling detection example, performance is broken down by age (eg, young, old), gender (eg, female, male), and then both (eg, old-female, old-male, young-female, young-male).\n",
    " \n",
    "## 8. Ethical Considerations\n",
    "- Describe ethical considerations related to the model, such as sensitive data used to train the model, whether the model has implications for human life, health, or safety, how risk was mitigated, and what harms may be present in model usage.\n",
    " \n",
    "## 9. Caveats and Recommendations\n",
    "- Add anything important that you have not covered elsewhere in the model card."
   ]
  },
  {
   "cell_type": "markdown",
   "id": "minus-stocks",
   "metadata": {
    "papermill": {
     "duration": 0.004193,
     "end_time": "2021-06-03T16:38:13.580445",
     "exception": false,
     "start_time": "2021-06-03T16:38:13.576252",
     "status": "completed"
    },
    "tags": []
   },
   "source": [
    "# How can you use model cards in your organization? \n",
    "\n",
    "The use of detailed model cards can often be challenging because an organization may not want to reveal its processes, proprietary data or trade secrets. In such cases, the developer team should think about how model cards can be useful and empowering, without including sensitive information.\n",
    "\n",
    "Some teams use other formats - such as [FactSheets](https://aifs360.mybluemix.net/) - to collect and log ML model information."
   ]
  },
  {
   "cell_type": "markdown",
   "id": "amended-cincinnati",
   "metadata": {
    "papermill": {
     "duration": 0.004127,
     "end_time": "2021-06-03T16:38:13.589080",
     "exception": false,
     "start_time": "2021-06-03T16:38:13.584953",
     "status": "completed"
    },
    "tags": []
   },
   "source": [
    "# Your turn\n",
    "\n",
    "Apply what you've learned to **[decide how to use model cards](https://www.kaggle.com/kernels/fork/15577440)** in real-world scenarios."
   ]
  },
  {
   "cell_type": "markdown",
   "id": "fundamental-platinum",
   "metadata": {
    "papermill": {
     "duration": 0.004165,
     "end_time": "2021-06-03T16:38:13.597731",
     "exception": false,
     "start_time": "2021-06-03T16:38:13.593566",
     "status": "completed"
    },
    "tags": []
   },
   "source": [
    "---\n",
    "\n",
    "\n",
    "\n",
    "\n",
    "*Have questions or comments? Visit the [Learn Discussion forum](https://www.kaggle.com/learn-forum/230765) to chat with other Learners.*"
   ]
  }
 ],
 "metadata": {
  "kernelspec": {
   "display_name": "Python 3",
   "language": "python",
   "name": "python3"
  },
  "language_info": {
   "codemirror_mode": {
    "name": "ipython",
    "version": 3
   },
   "file_extension": ".py",
   "mimetype": "text/x-python",
   "name": "python",
   "nbconvert_exporter": "python",
   "pygments_lexer": "ipython3",
   "version": "3.7.9"
  },
  "papermill": {
   "default_parameters": {},
   "duration": 7.791661,
   "end_time": "2021-06-03T16:38:15.133582",
   "environment_variables": {},
   "exception": null,
   "input_path": "__notebook__.ipynb",
   "output_path": "__notebook__.ipynb",
   "parameters": {},
   "start_time": "2021-06-03T16:38:07.341921",
   "version": "2.2.2"
  }
 },
 "nbformat": 4,
 "nbformat_minor": 5
}
