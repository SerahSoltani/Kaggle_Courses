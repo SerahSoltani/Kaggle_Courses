{
 "cells": [
  {
   "cell_type": "markdown",
   "id": "d2c1a1a4",
   "metadata": {
    "papermill": {
     "duration": 0.007142,
     "end_time": "2022-06-06T19:02:34.800992",
     "exception": false,
     "start_time": "2022-06-06T19:02:34.793850",
     "status": "completed"
    },
    "tags": []
   },
   "source": [
    "# Introduction\n",
    "\n",
    "In this lesson, you will learn how to organize your code with functions.  A **function** is a block of code designed to perform a specific task.  As you'll see, functions will let you do roughly the same calculation multiple times without duplicating any code.  \n",
    "\n",
    "# Intro to functions: a simple example\n",
    "\n",
    "We begin with a simple example of a function.  The `add_three()` function below accepts any number, adds three to it, and then returns the result."
   ]
  },
  {
   "cell_type": "code",
   "execution_count": 1,
   "id": "39f9725f",
   "metadata": {
    "execution": {
     "iopub.execute_input": "2022-06-06T19:02:34.815554Z",
     "iopub.status.busy": "2022-06-06T19:02:34.814840Z",
     "iopub.status.idle": "2022-06-06T19:02:34.825585Z",
     "shell.execute_reply": "2022-06-06T19:02:34.824573Z"
    },
    "papermill": {
     "duration": 0.020687,
     "end_time": "2022-06-06T19:02:34.828009",
     "exception": false,
     "start_time": "2022-06-06T19:02:34.807322",
     "status": "completed"
    },
    "tags": []
   },
   "outputs": [],
   "source": [
    "# Define the function\n",
    "def add_three(input_var):\n",
    "    output_var = input_var + 3\n",
    "    return output_var"
   ]
  },
  {
   "cell_type": "markdown",
   "id": "80be8bd1",
   "metadata": {
    "papermill": {
     "duration": 0.006141,
     "end_time": "2022-06-06T19:02:34.842567",
     "exception": false,
     "start_time": "2022-06-06T19:02:34.836426",
     "status": "completed"
    },
    "tags": []
   },
   "source": [
    "Every function is composed of two pieces: a **header** and **body**.\n",
    "\n",
    "![](https://i.imgur.com/gu0AWhK.png)\n",
    "\n",
    "## Header\n",
    "The function **header** defines the name of the function and its argument(s).  \n",
    "- Every function header begins with `def`, which tells Python that we are about to define a function.\n",
    "- In the example, the function name is `add_three`.  \n",
    "- In the example, the argument is `input_var`.  The **argument** is the name of the variable that will be used as input to the function. It is always enclosed in parentheses that apppear immediately after the name of the function.  (_Note that a function can also have no arguments, or it can have multiple arguments.  You'll see some examples of this later in the lesson._)  \n",
    "- For every function, the parentheses enclosing the function argument(s) must be followed by a colon `:`.\n",
    " \n",
    "## Body\n",
    "The function **body** specifies the work that the function does.\n",
    "- Every line of code in the function body must be indented exactly four spaces.  You can do this by pushing the space bar four times, or by hitting the \"Tab\" button once on your keyboard.  (_As you learn more about Python, you may need to indent your code by more than four spaces, but you'll learn more about that later in this course._)\n",
    "- The function does its work by running all of the indented lines from top to bottom.  \n",
    "    - It takes the argument as input, which in the example is `input_var`.  \n",
    "    - The function creates a new variable `output_var` with the calculation `output_var = input_var + 3`.\n",
    "    - Then, the final line of code, called the **return statement**, just returns the value in `output_var` as the function's output.\n",
    "  \n",
    "The code cell above just defines the function, but does not run it.  The details of the function body will make more sense after the next code cell, when we actually run the function.\n",
    "\n",
    "# How to run (or \"call\") a function\n",
    " \n",
    "When we run a function, it can also be referred to as \"calling\" the function.\n",
    "\n",
    "In the code cell below, we run the function with `10` as the input value.  We define a new variable `new_number` which is set to the output of the function."
   ]
  },
  {
   "cell_type": "code",
   "execution_count": 2,
   "id": "d71f334f",
   "metadata": {
    "execution": {
     "iopub.execute_input": "2022-06-06T19:02:34.856729Z",
     "iopub.status.busy": "2022-06-06T19:02:34.856298Z",
     "iopub.status.idle": "2022-06-06T19:02:34.861444Z",
     "shell.execute_reply": "2022-06-06T19:02:34.860472Z"
    },
    "papermill": {
     "duration": 0.016595,
     "end_time": "2022-06-06T19:02:34.865292",
     "exception": false,
     "start_time": "2022-06-06T19:02:34.848697",
     "status": "completed"
    },
    "tags": []
   },
   "outputs": [
    {
     "name": "stdout",
     "output_type": "stream",
     "text": [
      "13\n"
     ]
    }
   ],
   "source": [
    "# Run the function with 10 as input\n",
    "new_number = add_three(10)\n",
    "\n",
    "# Check that the value is 13, as expected\n",
    "print(new_number)"
   ]
  },
  {
   "cell_type": "markdown",
   "id": "24678a2e",
   "metadata": {
    "papermill": {
     "duration": 0.006078,
     "end_time": "2022-06-06T19:02:34.877524",
     "exception": false,
     "start_time": "2022-06-06T19:02:34.871446",
     "status": "completed"
    },
    "tags": []
   },
   "source": [
    "![](https://i.imgur.com/hlUbxQE.png)\n",
    "\n",
    "In more detail,\n",
    "- `add_three(10)` is the value that we get as output when we supply `10` as the value for `input_var` and call the `add_three()` function.  When the function runs, it runs all of the code in its body, from top to bottom:\n",
    "  - It first calculates `output_var = input_var + 3`, which sets `output_var = 13`.  \n",
    "  - The final line of code is the return statement, which returns the value of `output_var`, which is `13`.\n",
    "- By setting `new_number = add_three(10)`, we set `new_number = 13`. \n",
    "\n",
    "**Note**: When we casually refer to the `add_three()` function in this tutorial, we use empty closing parentheses after the function name.  This is consistent with how people generally write explanations of Python code, and the empty parentheses just make it clear that we are referring to a function, as opposed to a variable or another Python object.  These parentheses should always be empty, even if the function has arguments.\n",
    "\n",
    "# Naming functions\n",
    "\n",
    "In the example above, the name of the function was selected for you.  When naming your own functions, you should use only lowercase letters, with words separated by underscores instead of spaces.\n",
    "\n",
    "Naming functions will feel natural over time, and it is normal for it to feel uncomfortable at first.  The best way to learn is by viewing a lot of Python code."
   ]
  },
  {
   "cell_type": "markdown",
   "id": "21c2defe",
   "metadata": {
    "papermill": {
     "duration": 0.006072,
     "end_time": "2022-06-06T19:02:34.889713",
     "exception": false,
     "start_time": "2022-06-06T19:02:34.883641",
     "status": "completed"
    },
    "tags": []
   },
   "source": [
    "# A more complex example\n",
    "\n",
    "Now that you understand the basics, we can move on to an example with a longer calculation.\n",
    "\n",
    "Say you are helping a friend to calculate their weekly paycheck after taxes. \n",
    "- They're in a 12% tax bracket (in other words, 12% of their salary is taken for taxes, and they only take home 88%), and \n",
    "- They're paid hourly, at a rate of $15/hour.\n",
    "\n",
    "The function below calculates the paycheck based on the number of hours worked.  The function is more complicated than with the first example, because the function has more lines of code and comments.  Similar to the example above, the function has a single argument (`num hours`).  In the function body, we:\n",
    "- Use the value for `num_hours` to specify the value for a new variable `pay_pretax`.\n",
    "- Use the value of `pay_pretax` to specify the value for a new variable `pay_aftertax`.\n",
    "- Return the value of the `pay_aftertax` variable."
   ]
  },
  {
   "cell_type": "code",
   "execution_count": 3,
   "id": "8c94577a",
   "metadata": {
    "execution": {
     "iopub.execute_input": "2022-06-06T19:02:34.903458Z",
     "iopub.status.busy": "2022-06-06T19:02:34.903059Z",
     "iopub.status.idle": "2022-06-06T19:02:34.907553Z",
     "shell.execute_reply": "2022-06-06T19:02:34.906655Z"
    },
    "papermill": {
     "duration": 0.013831,
     "end_time": "2022-06-06T19:02:34.909552",
     "exception": false,
     "start_time": "2022-06-06T19:02:34.895721",
     "status": "completed"
    },
    "tags": []
   },
   "outputs": [],
   "source": [
    "def get_pay(num_hours):\n",
    "    # Pre-tax pay, based on receiving $15/hour\n",
    "    pay_pretax = num_hours * 15\n",
    "    # After-tax pay, based on being in 12% tax bracket\n",
    "    pay_aftertax = pay_pretax * (1 - .12)\n",
    "    return pay_aftertax"
   ]
  },
  {
   "cell_type": "markdown",
   "id": "40cb8e97",
   "metadata": {
    "papermill": {
     "duration": 0.006116,
     "end_time": "2022-06-06T19:02:34.921886",
     "exception": false,
     "start_time": "2022-06-06T19:02:34.915770",
     "status": "completed"
    },
    "tags": []
   },
   "source": [
    "We call this function the same way we called the first function.  The next code cell calculates the paycheck, based on working 40 hours.  (After taxes, it is $528.)"
   ]
  },
  {
   "cell_type": "code",
   "execution_count": 4,
   "id": "a4caddfe",
   "metadata": {
    "execution": {
     "iopub.execute_input": "2022-06-06T19:02:34.936787Z",
     "iopub.status.busy": "2022-06-06T19:02:34.935852Z",
     "iopub.status.idle": "2022-06-06T19:02:34.941442Z",
     "shell.execute_reply": "2022-06-06T19:02:34.940133Z"
    },
    "papermill": {
     "duration": 0.014968,
     "end_time": "2022-06-06T19:02:34.943483",
     "exception": false,
     "start_time": "2022-06-06T19:02:34.928515",
     "status": "completed"
    },
    "tags": []
   },
   "outputs": [
    {
     "name": "stdout",
     "output_type": "stream",
     "text": [
      "528.0\n"
     ]
    }
   ],
   "source": [
    "# Calculate pay based on working 40 hours\n",
    "pay_fulltime = get_pay(40)\n",
    "print(pay_fulltime)"
   ]
  },
  {
   "cell_type": "markdown",
   "id": "da3af12c",
   "metadata": {
    "papermill": {
     "duration": 0.006299,
     "end_time": "2022-06-06T19:02:34.956062",
     "exception": false,
     "start_time": "2022-06-06T19:02:34.949763",
     "status": "completed"
    },
    "tags": []
   },
   "source": [
    "To quickly calculate pay based on a different number of hours worked, you need to supply the function with a different number.  For instance, say your friend works 32 hours.  (Then, they get $422.40.)"
   ]
  },
  {
   "cell_type": "code",
   "execution_count": 5,
   "id": "b7abf865",
   "metadata": {
    "execution": {
     "iopub.execute_input": "2022-06-06T19:02:34.970102Z",
     "iopub.status.busy": "2022-06-06T19:02:34.969742Z",
     "iopub.status.idle": "2022-06-06T19:02:34.974299Z",
     "shell.execute_reply": "2022-06-06T19:02:34.973329Z"
    },
    "papermill": {
     "duration": 0.014615,
     "end_time": "2022-06-06T19:02:34.976844",
     "exception": false,
     "start_time": "2022-06-06T19:02:34.962229",
     "status": "completed"
    },
    "tags": []
   },
   "outputs": [
    {
     "name": "stdout",
     "output_type": "stream",
     "text": [
      "422.4\n"
     ]
    }
   ],
   "source": [
    "pay_parttime = get_pay(32)\n",
    "print(pay_parttime)"
   ]
  },
  {
   "cell_type": "markdown",
   "id": "3c85d128",
   "metadata": {
    "papermill": {
     "duration": 0.005862,
     "end_time": "2022-06-06T19:02:34.988981",
     "exception": false,
     "start_time": "2022-06-06T19:02:34.983119",
     "status": "completed"
    },
    "tags": []
   },
   "source": [
    "Because you wrote a function, you can calculate pay for different hours without having to rewrite all of the code in the calculations all over again. \n",
    "\n",
    "Functions can help you to avoid errors in your code, and you save a lot of time.  In general, when coding, you should aim to write as little as possible, because each time you type out a calculation, it's another opportunity to accidentally introduce a typo or error. \n",
    "\n",
    "# Variable \"scope\"\n",
    "\n",
    "Variables defined inside the function body cannot be accessed outside of the function.  For instance, the next code cell errors, because `pay_aftertax` only exists inside the function."
   ]
  },
  {
   "cell_type": "code",
   "execution_count": 6,
   "id": "8eddd394",
   "metadata": {
    "execution": {
     "iopub.execute_input": "2022-06-06T19:02:35.002748Z",
     "iopub.status.busy": "2022-06-06T19:02:35.002370Z",
     "iopub.status.idle": "2022-06-06T19:02:35.071893Z",
     "shell.execute_reply": "2022-06-06T19:02:35.070930Z"
    },
    "papermill": {
     "duration": 0.079054,
     "end_time": "2022-06-06T19:02:35.074112",
     "exception": false,
     "start_time": "2022-06-06T19:02:34.995058",
     "status": "completed"
    },
    "tags": []
   },
   "outputs": [
    {
     "ename": "NameError",
     "evalue": "name 'pay_aftertax' is not defined",
     "output_type": "error",
     "traceback": [
      "\u001b[0;31m---------------------------------------------------------------------------\u001b[0m",
      "\u001b[0;31mNameError\u001b[0m                                 Traceback (most recent call last)",
      "\u001b[0;32m/tmp/ipykernel_19/2991332200.py\u001b[0m in \u001b[0;36m<module>\u001b[0;34m\u001b[0m\n\u001b[0;32m----> 1\u001b[0;31m \u001b[0mprint\u001b[0m\u001b[0;34m(\u001b[0m\u001b[0mpay_aftertax\u001b[0m\u001b[0;34m)\u001b[0m\u001b[0;34m\u001b[0m\u001b[0;34m\u001b[0m\u001b[0m\n\u001b[0m",
      "\u001b[0;31mNameError\u001b[0m: name 'pay_aftertax' is not defined"
     ]
    }
   ],
   "source": [
    "print(pay_aftertax)"
   ]
  },
  {
   "cell_type": "markdown",
   "id": "d9d6135c",
   "metadata": {
    "papermill": {
     "duration": 0.006587,
     "end_time": "2022-06-06T19:02:35.087089",
     "exception": false,
     "start_time": "2022-06-06T19:02:35.080502",
     "status": "completed"
    },
    "tags": []
   },
   "source": [
    "You will get the same error if you try to print `pay_pretax` or `num_hours`.  For this reason, if you need any information from a function, you need to make sure that appears in the return statement at the end of the function.\n",
    "\n",
    "We refer to a variable's **scope** as the part of the code where it is accessible.  Variables defined _inside a function_ (like `pay_aftertax`) have a local scope of that function only.  However, as you've seen, variables defined _outside all functions_ (like `pay_parttime`) have a global scope and can be accessed anywhere."
   ]
  },
  {
   "cell_type": "markdown",
   "id": "baa0bdec",
   "metadata": {
    "papermill": {
     "duration": 0.00612,
     "end_time": "2022-06-06T19:02:35.099623",
     "exception": false,
     "start_time": "2022-06-06T19:02:35.093503",
     "status": "completed"
    },
    "tags": []
   },
   "source": [
    "# Functions with multiple arguments\n",
    "\n",
    "So far, you have learned how to define a function with just one argument.  To define a function with multiple arguments, you only need to add more arguments inside the parentheses in the function head and separate them with a comma.\n",
    "\n",
    "We do this with the `get_pay_with_more_inputs()` function below, which calculates a weekly paycheck based on three arguments:\n",
    "- `num_hours` - number of hours worked in one week\n",
    "- `hourly_wage` - the hourly wage (in $/hour)\n",
    "- `tax_bracket` - percentage of your salary that is removed for taxes"
   ]
  },
  {
   "cell_type": "code",
   "execution_count": 7,
   "id": "3f33046f",
   "metadata": {
    "execution": {
     "iopub.execute_input": "2022-06-06T19:02:35.114509Z",
     "iopub.status.busy": "2022-06-06T19:02:35.114083Z",
     "iopub.status.idle": "2022-06-06T19:02:35.118783Z",
     "shell.execute_reply": "2022-06-06T19:02:35.118044Z"
    },
    "papermill": {
     "duration": 0.014425,
     "end_time": "2022-06-06T19:02:35.120573",
     "exception": false,
     "start_time": "2022-06-06T19:02:35.106148",
     "status": "completed"
    },
    "tags": []
   },
   "outputs": [],
   "source": [
    "def get_pay_with_more_inputs(num_hours, hourly_wage, tax_bracket):\n",
    "    # Pre-tax pay\n",
    "    pay_pretax = num_hours * hourly_wage\n",
    "    # After-tax pay\n",
    "    pay_aftertax = pay_pretax * (1 - tax_bracket)\n",
    "    return pay_aftertax"
   ]
  },
  {
   "cell_type": "markdown",
   "id": "a39b021b",
   "metadata": {
    "papermill": {
     "duration": 0.006169,
     "end_time": "2022-06-06T19:02:35.133195",
     "exception": false,
     "start_time": "2022-06-06T19:02:35.127026",
     "status": "completed"
    },
    "tags": []
   },
   "source": [
    "Then, to call the function, you need to provide one value for each input, again separated by a comma.\n",
    "\n",
    "In the code cell below, we calculate the pay after taxes for someone who works 40 hours, makes $24/hour, and is in a 22% tax bracket."
   ]
  },
  {
   "cell_type": "code",
   "execution_count": 8,
   "id": "6d598720",
   "metadata": {
    "execution": {
     "iopub.execute_input": "2022-06-06T19:02:35.148429Z",
     "iopub.status.busy": "2022-06-06T19:02:35.147472Z",
     "iopub.status.idle": "2022-06-06T19:02:35.152962Z",
     "shell.execute_reply": "2022-06-06T19:02:35.151939Z"
    },
    "papermill": {
     "duration": 0.015202,
     "end_time": "2022-06-06T19:02:35.154892",
     "exception": false,
     "start_time": "2022-06-06T19:02:35.139690",
     "status": "completed"
    },
    "tags": []
   },
   "outputs": [
    {
     "name": "stdout",
     "output_type": "stream",
     "text": [
      "748.8000000000001\n"
     ]
    }
   ],
   "source": [
    "higher_pay_aftertax = get_pay_with_more_inputs(40, 24, .22)\n",
    "print(higher_pay_aftertax)"
   ]
  },
  {
   "cell_type": "markdown",
   "id": "08139d17",
   "metadata": {
    "papermill": {
     "duration": 0.006358,
     "end_time": "2022-06-06T19:02:35.167637",
     "exception": false,
     "start_time": "2022-06-06T19:02:35.161279",
     "status": "completed"
    },
    "tags": []
   },
   "source": [
    "The following code cell gives the same result as when we ran `get_pay(40)`, because `hourly_wage` is set to 15, and `tax_bracket` is set to 12%, which lines up with how we designed `get_pay`."
   ]
  },
  {
   "cell_type": "code",
   "execution_count": 9,
   "id": "97140500",
   "metadata": {
    "execution": {
     "iopub.execute_input": "2022-06-06T19:02:35.182471Z",
     "iopub.status.busy": "2022-06-06T19:02:35.181821Z",
     "iopub.status.idle": "2022-06-06T19:02:35.186862Z",
     "shell.execute_reply": "2022-06-06T19:02:35.185913Z"
    },
    "papermill": {
     "duration": 0.01475,
     "end_time": "2022-06-06T19:02:35.188915",
     "exception": false,
     "start_time": "2022-06-06T19:02:35.174165",
     "status": "completed"
    },
    "tags": []
   },
   "outputs": [
    {
     "name": "stdout",
     "output_type": "stream",
     "text": [
      "528.0\n"
     ]
    }
   ],
   "source": [
    "same_pay_fulltime = get_pay_with_more_inputs(40, 15, .12)\n",
    "print(same_pay_fulltime)"
   ]
  },
  {
   "cell_type": "markdown",
   "id": "d78eb3d7",
   "metadata": {
    "papermill": {
     "duration": 0.006461,
     "end_time": "2022-06-06T19:02:35.201847",
     "exception": false,
     "start_time": "2022-06-06T19:02:35.195386",
     "status": "completed"
    },
    "tags": []
   },
   "source": [
    "Depending on how we plan to use this new function `get_pay_with_more_inputs()`, it can be more useful than the original function `get_pay()`, because it addresses more cases.  Instead of potentially incorrectly assuming the hourly wage and tax bracket, the new function allows the user to specify the correct values.  But, if you're sure the hourly wage and tax bracket won't need to change, the new function is just more complicated than necessary.  In general, when defining functions, you'll need to consider how much flexibility you need, based on your use case. \n",
    "\n",
    "# Functions with no arguments\n",
    "\n",
    "Note that it's possible to define function with no arguments, and that don't have a return statement.  The `print_hello()` function in the code cell below is an example.  "
   ]
  },
  {
   "cell_type": "code",
   "execution_count": 10,
   "id": "001c1524",
   "metadata": {
    "execution": {
     "iopub.execute_input": "2022-06-06T19:02:35.216547Z",
     "iopub.status.busy": "2022-06-06T19:02:35.215844Z",
     "iopub.status.idle": "2022-06-06T19:02:35.222131Z",
     "shell.execute_reply": "2022-06-06T19:02:35.221088Z"
    },
    "papermill": {
     "duration": 0.015604,
     "end_time": "2022-06-06T19:02:35.224037",
     "exception": false,
     "start_time": "2022-06-06T19:02:35.208433",
     "status": "completed"
    },
    "tags": []
   },
   "outputs": [
    {
     "name": "stdout",
     "output_type": "stream",
     "text": [
      "Hello, you!\n",
      "Good morning!\n"
     ]
    }
   ],
   "source": [
    "# Define the function with no arguments and with no return\n",
    "def print_hello():\n",
    "    print(\"Hello, you!\")\n",
    "    print(\"Good morning!\")\n",
    "    \n",
    "# Call the function\n",
    "print_hello()"
   ]
  },
  {
   "cell_type": "markdown",
   "id": "72717122",
   "metadata": {
    "papermill": {
     "duration": 0.006206,
     "end_time": "2022-06-06T19:02:35.236775",
     "exception": false,
     "start_time": "2022-06-06T19:02:35.230569",
     "status": "completed"
    },
    "tags": []
   },
   "source": [
    "This course is short and meant as an introduction to programming, so we won't cover everything you need to know about functions in this tutorial.  You'll learn even more about functions in [the Python course](http://www.kaggle.com/learn/python).\n",
    "\n",
    "# Your turn\n",
    "\n",
    "It's time to **[write your own functions in Python](https://www.kaggle.com/kernels/fork/25258227)**."
   ]
  },
  {
   "cell_type": "markdown",
   "id": "ddfef34c",
   "metadata": {
    "papermill": {
     "duration": 0.006287,
     "end_time": "2022-06-06T19:02:35.249434",
     "exception": false,
     "start_time": "2022-06-06T19:02:35.243147",
     "status": "completed"
    },
    "tags": []
   },
   "source": [
    "---\n",
    "\n",
    "\n",
    "\n",
    "\n",
    "*Have questions or comments? Visit the [course discussion forum](https://www.kaggle.com/learn/intro-to-programming/discussion) to chat with other learners.*"
   ]
  }
 ],
 "metadata": {
  "kernelspec": {
   "display_name": "Python 3",
   "language": "python",
   "name": "python3"
  },
  "language_info": {
   "codemirror_mode": {
    "name": "ipython",
    "version": 3
   },
   "file_extension": ".py",
   "mimetype": "text/x-python",
   "name": "python",
   "nbconvert_exporter": "python",
   "pygments_lexer": "ipython3",
   "version": "3.7.12"
  },
  "papermill": {
   "default_parameters": {},
   "duration": 11.419867,
   "end_time": "2022-06-06T19:02:35.876297",
   "environment_variables": {},
   "exception": null,
   "input_path": "__notebook__.ipynb",
   "output_path": "__notebook__.ipynb",
   "parameters": {},
   "start_time": "2022-06-06T19:02:24.456430",
   "version": "2.3.3"
  }
 },
 "nbformat": 4,
 "nbformat_minor": 5
}
