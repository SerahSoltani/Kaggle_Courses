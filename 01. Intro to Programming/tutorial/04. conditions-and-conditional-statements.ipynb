{
 "cells": [
  {
   "cell_type": "markdown",
   "id": "f619881a",
   "metadata": {
    "papermill": {
     "duration": 0.007181,
     "end_time": "2022-06-08T16:57:58.162609",
     "exception": false,
     "start_time": "2022-06-08T16:57:58.155428",
     "status": "completed"
    },
    "tags": []
   },
   "source": [
    "# Introduction\n",
    "\n",
    "You have already seen that when you change the input value to a function, you often get a different output.  For instance, consider an `add_five()` function that just adds five to any number and returns the result.  Then `add_five(7)` will return an output of 12 (=7+5), and `add_five(8)` will return an output of 13 (=8+5).  Note that no matter what the input is, the action that the function performs is always the same: it always adds five.\n",
    "\n",
    "But you might instead need a function that performs an action that depends on the input.  For instance, you might need a function `add_three_or_eight()` that adds three if the input is less than 10, and adds eight if the input is 10 or more.  Then `add_three_or_eight(1)` will return 4 (= 1+3), but `add_three_or_eight(11)` will return 19 (=11+8).  In this case, the action that the function performs varies with the input.\n",
    "\n",
    "In this lesson, you will learn how to use conditions and conditional statements to modify how your functions run.\n",
    "\n",
    "# Conditions\n",
    "\n",
    "In programming, **conditions** are statements that are either `True` or `False`.  There are many different ways to write conditions in Python, but some of the most common ways of writing conditions just compare two different values.  For instance, you can check if 2 is greater than 3."
   ]
  },
  {
   "cell_type": "code",
   "execution_count": 1,
   "id": "fba383ed",
   "metadata": {
    "execution": {
     "iopub.execute_input": "2022-06-08T16:57:58.177481Z",
     "iopub.status.busy": "2022-06-08T16:57:58.176465Z",
     "iopub.status.idle": "2022-06-08T16:57:58.186148Z",
     "shell.execute_reply": "2022-06-08T16:57:58.185276Z"
    },
    "papermill": {
     "duration": 0.019281,
     "end_time": "2022-06-08T16:57:58.188284",
     "exception": false,
     "start_time": "2022-06-08T16:57:58.169003",
     "status": "completed"
    },
    "tags": []
   },
   "outputs": [
    {
     "name": "stdout",
     "output_type": "stream",
     "text": [
      "False\n"
     ]
    }
   ],
   "source": [
    "print(2 > 3)"
   ]
  },
  {
   "cell_type": "markdown",
   "id": "a78109ef",
   "metadata": {
    "papermill": {
     "duration": 0.005526,
     "end_time": "2022-06-08T16:57:58.199803",
     "exception": false,
     "start_time": "2022-06-08T16:57:58.194277",
     "status": "completed"
    },
    "tags": []
   },
   "source": [
    "Python identifies this as False, since 2 is not greater than 3.\n",
    "\n",
    "You can also use conditions to compare the values of variables.  In the next code cell, `var_one` has a value of 1, and `var_two` has a value of two.  In the conditions, we check if `var_one` is less than 1 (which is `False`), and we check if `var_two` is greater than or equal to `var_one` (which is `True`)."
   ]
  },
  {
   "cell_type": "code",
   "execution_count": 2,
   "id": "3eb7469b",
   "metadata": {
    "execution": {
     "iopub.execute_input": "2022-06-08T16:57:58.213154Z",
     "iopub.status.busy": "2022-06-08T16:57:58.212607Z",
     "iopub.status.idle": "2022-06-08T16:57:58.217875Z",
     "shell.execute_reply": "2022-06-08T16:57:58.217024Z"
    },
    "papermill": {
     "duration": 0.014187,
     "end_time": "2022-06-08T16:57:58.219732",
     "exception": false,
     "start_time": "2022-06-08T16:57:58.205545",
     "status": "completed"
    },
    "tags": []
   },
   "outputs": [
    {
     "name": "stdout",
     "output_type": "stream",
     "text": [
      "False\n",
      "True\n"
     ]
    }
   ],
   "source": [
    "var_one = 1\n",
    "var_two = 2\n",
    "\n",
    "print(var_one < 1)\n",
    "print(var_two >= var_one)"
   ]
  },
  {
   "cell_type": "markdown",
   "id": "58c72955",
   "metadata": {
    "papermill": {
     "duration": 0.005687,
     "end_time": "2022-06-08T16:57:58.231373",
     "exception": false,
     "start_time": "2022-06-08T16:57:58.225686",
     "status": "completed"
    },
    "tags": []
   },
   "source": [
    "For a list of common symbols you can use to construct conditions, check out the chart below.\n",
    "\n",
    "<table style=\"width: 100%;\">\n",
    "<tbody>\n",
    "<tr><th><b>Symbol</b></th><th><b>Meaning</b></th></tr>\n",
    "<tr>\n",
    "<td>==</td>\n",
    "<td>equals</td>\n",
    "</tr>\n",
    "<tr>\n",
    "<td>!=</td>\n",
    "<td>does not equal</td>\n",
    "</tr>\n",
    "<tr>\n",
    "<td>&#60;</td>\n",
    "<td>less than</td>\n",
    "</tr>\n",
    "<tr>\n",
    "<td>&#60;=</td>\n",
    "<td>less than or equal to</td>\n",
    "</tr>\n",
    "<tr>\n",
    "<td>&#62;</td>\n",
    "<td>greater than</td>\n",
    "</tr>\n",
    "<tr>\n",
    "<td>&#62;=</td>\n",
    "<td>greater than or equal to</td>\n",
    "</tr>\n",
    "</tbody>\n",
    "</table>"
   ]
  },
  {
   "cell_type": "markdown",
   "id": "3d03f4da",
   "metadata": {
    "papermill": {
     "duration": 0.005449,
     "end_time": "2022-06-08T16:57:58.242529",
     "exception": false,
     "start_time": "2022-06-08T16:57:58.237080",
     "status": "completed"
    },
    "tags": []
   },
   "source": [
    "**Important Note**: When you check two values are equal, make sure you use the == sign, and not the = sign.  \n",
    "- `var_one==1` checks if the value of `var_one` is 1, but \n",
    "- `var_one=1` sets the value of `var_one` to 1."
   ]
  },
  {
   "cell_type": "markdown",
   "id": "e9870929",
   "metadata": {
    "papermill": {
     "duration": 0.005389,
     "end_time": "2022-06-08T16:57:58.253915",
     "exception": false,
     "start_time": "2022-06-08T16:57:58.248526",
     "status": "completed"
    },
    "tags": []
   },
   "source": [
    "# Conditional statements\n",
    "\n",
    "**Conditional statements** use conditions to modify how your function runs.  They check the value of a condition, and if the condition evaluates to `True`, then a certain block of code is executed.  (Otherwise, if the condition is `False`, then the code is not run.)  \n",
    "\n",
    "You will see several examples of this in the following sections.\n",
    "\n",
    "## \"if\" statements\n",
    "\n",
    "The simplest type of conditional statement is an \"if\" statement.  You can see an example of this in the `evaluate_temp()` function below.  The function accepts a body temperature (in Celcius) as input.\n",
    "- Initially, `message` is set to `\"Normal temperature\"`.  \n",
    "- Then, if `temp > 38` is `True` (e.g., the body temperature is greater than 38°C), the message is updated to `\"Fever!\"`.  Otherwise, if `temp > 38` is False, then the message is not updated.\n",
    "- Finally, `message` is returned by the function.  "
   ]
  },
  {
   "cell_type": "code",
   "execution_count": 3,
   "id": "a9ef69e2",
   "metadata": {
    "execution": {
     "iopub.execute_input": "2022-06-08T16:57:58.267315Z",
     "iopub.status.busy": "2022-06-08T16:57:58.266282Z",
     "iopub.status.idle": "2022-06-08T16:57:58.271609Z",
     "shell.execute_reply": "2022-06-08T16:57:58.270885Z"
    },
    "papermill": {
     "duration": 0.014129,
     "end_time": "2022-06-08T16:57:58.273637",
     "exception": false,
     "start_time": "2022-06-08T16:57:58.259508",
     "status": "completed"
    },
    "tags": []
   },
   "outputs": [],
   "source": [
    "def evaluate_temp(temp):\n",
    "    # Set an initial message\n",
    "    message = \"Normal temperature.\"\n",
    "    # Update value of message only if temperature greater than 38\n",
    "    if temp > 38:\n",
    "        message = \"Fever!\"\n",
    "    return message"
   ]
  },
  {
   "cell_type": "markdown",
   "id": "2ffb8af3",
   "metadata": {
    "papermill": {
     "duration": 0.005762,
     "end_time": "2022-06-08T16:57:58.286173",
     "exception": false,
     "start_time": "2022-06-08T16:57:58.280411",
     "status": "completed"
    },
    "tags": []
   },
   "source": [
    "In the next code cell, we call the function, where the temperature is 37°C. The message is `\"Normal temperature\"`, because the temperature is greater than 38°C (`temp > 38` evaluates to `False`) in this case.  "
   ]
  },
  {
   "cell_type": "code",
   "execution_count": 4,
   "id": "71dfeabc",
   "metadata": {
    "execution": {
     "iopub.execute_input": "2022-06-08T16:57:58.300188Z",
     "iopub.status.busy": "2022-06-08T16:57:58.299629Z",
     "iopub.status.idle": "2022-06-08T16:57:58.304704Z",
     "shell.execute_reply": "2022-06-08T16:57:58.303732Z"
    },
    "papermill": {
     "duration": 0.014277,
     "end_time": "2022-06-08T16:57:58.306618",
     "exception": false,
     "start_time": "2022-06-08T16:57:58.292341",
     "status": "completed"
    },
    "tags": []
   },
   "outputs": [
    {
     "name": "stdout",
     "output_type": "stream",
     "text": [
      "Normal temperature.\n"
     ]
    }
   ],
   "source": [
    "print(evaluate_temp(37))"
   ]
  },
  {
   "cell_type": "markdown",
   "id": "e34018c4",
   "metadata": {
    "papermill": {
     "duration": 0.005818,
     "end_time": "2022-06-08T16:57:58.318466",
     "exception": false,
     "start_time": "2022-06-08T16:57:58.312648",
     "status": "completed"
    },
    "tags": []
   },
   "source": [
    "However, if the temperature is instead 39°C, since this is greater than 38°C, the message is updated to `\"Fever!\"`."
   ]
  },
  {
   "cell_type": "code",
   "execution_count": 5,
   "id": "c395e0e2",
   "metadata": {
    "execution": {
     "iopub.execute_input": "2022-06-08T16:57:58.332176Z",
     "iopub.status.busy": "2022-06-08T16:57:58.331796Z",
     "iopub.status.idle": "2022-06-08T16:57:58.336274Z",
     "shell.execute_reply": "2022-06-08T16:57:58.335354Z"
    },
    "papermill": {
     "duration": 0.013677,
     "end_time": "2022-06-08T16:57:58.338259",
     "exception": false,
     "start_time": "2022-06-08T16:57:58.324582",
     "status": "completed"
    },
    "tags": []
   },
   "outputs": [
    {
     "name": "stdout",
     "output_type": "stream",
     "text": [
      "Fever!\n"
     ]
    }
   ],
   "source": [
    "print(evaluate_temp(39))"
   ]
  },
  {
   "cell_type": "markdown",
   "id": "f69ef3a5",
   "metadata": {
    "papermill": {
     "duration": 0.005501,
     "end_time": "2022-06-08T16:57:58.349644",
     "exception": false,
     "start_time": "2022-06-08T16:57:58.344143",
     "status": "completed"
    },
    "tags": []
   },
   "source": [
    "Note that there are two levels of indentation:\n",
    "- The first level of indentation is because we always need to indent the code block inside a function.\n",
    "- The second level of indentation is because we also need to indent the code block belonging to the \"if\" statement.  (As you'll see, we'll also need to indent the code blocks for \"elif\" and \"else\" statements.)\n",
    "\n",
    "Note that because the return statement is not indented under the \"if\" statement, it is always executed, whether `temp > 38` is `True` or `False`."
   ]
  },
  {
   "cell_type": "markdown",
   "id": "9e90ae66",
   "metadata": {
    "papermill": {
     "duration": 0.007539,
     "end_time": "2022-06-08T16:57:58.362934",
     "exception": false,
     "start_time": "2022-06-08T16:57:58.355395",
     "status": "completed"
    },
    "tags": []
   },
   "source": [
    "## \"if ... else\" statements\n",
    "\n",
    "We can use \"else\" statements to run code if a statement is False.  The code under the \"if\" statement is run if the statement is `True`, and the code under \"else\" is run if the statement is `False`."
   ]
  },
  {
   "cell_type": "code",
   "execution_count": 6,
   "id": "1c128b17",
   "metadata": {
    "execution": {
     "iopub.execute_input": "2022-06-08T16:57:58.376614Z",
     "iopub.status.busy": "2022-06-08T16:57:58.376275Z",
     "iopub.status.idle": "2022-06-08T16:57:58.380580Z",
     "shell.execute_reply": "2022-06-08T16:57:58.379546Z"
    },
    "papermill": {
     "duration": 0.013348,
     "end_time": "2022-06-08T16:57:58.382386",
     "exception": false,
     "start_time": "2022-06-08T16:57:58.369038",
     "status": "completed"
    },
    "tags": []
   },
   "outputs": [],
   "source": [
    "def evaluate_temp_with_else(temp):\n",
    "    if temp > 38:\n",
    "        message = \"Fever!\"\n",
    "    else:\n",
    "        message = \"Normal temperature.\"\n",
    "    return message"
   ]
  },
  {
   "cell_type": "markdown",
   "id": "1e9ff4ae",
   "metadata": {
    "papermill": {
     "duration": 0.005756,
     "end_time": "2022-06-08T16:57:58.394125",
     "exception": false,
     "start_time": "2022-06-08T16:57:58.388369",
     "status": "completed"
    },
    "tags": []
   },
   "source": [
    "This `evaluate_temp_with_else()` function has equivalent behavior to the `evaluate_temp()` function.\n",
    "\n",
    "In the next code cell, we call this new function, where the temperature is 37°C.  In this case, `temp > 38` evaluates to `False`, so the code under the \"else\" statement is executed, and the `Normal temperature.` message is returned."
   ]
  },
  {
   "cell_type": "code",
   "execution_count": 7,
   "id": "4c255fd3",
   "metadata": {
    "execution": {
     "iopub.execute_input": "2022-06-08T16:57:58.408615Z",
     "iopub.status.busy": "2022-06-08T16:57:58.407548Z",
     "iopub.status.idle": "2022-06-08T16:57:58.412819Z",
     "shell.execute_reply": "2022-06-08T16:57:58.411822Z"
    },
    "papermill": {
     "duration": 0.014638,
     "end_time": "2022-06-08T16:57:58.414942",
     "exception": false,
     "start_time": "2022-06-08T16:57:58.400304",
     "status": "completed"
    },
    "tags": []
   },
   "outputs": [
    {
     "name": "stdout",
     "output_type": "stream",
     "text": [
      "Normal temperature.\n"
     ]
    }
   ],
   "source": [
    "print(evaluate_temp_with_else(37))"
   ]
  },
  {
   "cell_type": "markdown",
   "id": "48b8e4d5",
   "metadata": {
    "papermill": {
     "duration": 0.006101,
     "end_time": "2022-06-08T16:57:58.427719",
     "exception": false,
     "start_time": "2022-06-08T16:57:58.421618",
     "status": "completed"
    },
    "tags": []
   },
   "source": [
    "As with the previous function, we indent the code blocks after the \"if\" and \"else\" statements.  \n",
    "\n",
    "## \"if ... elif ... else\" statements\n",
    "\n",
    "We can use \"elif\" (which is short for \"else if\") to check if multiple conditions might be true.  The function below:\n",
    "- First checks if `temp > 38`.  If this is true, then the message is set to `\"Fever!\"`.\n",
    "- As long as the message has not already been set, the function then checks if `temp > 35`.  If this is true, then the message is set to `\"Normal temperature.\"`.\n",
    "- Then, if still no message has been set, the \"else\" statement ensures that the message is set to `\"Low temperature.\"` message is printed.\n",
    "\n",
    "You can think of \"elif\" as saying ... \"okay, that previous condition (e.g., `temp > 38`) was false, so let's check if this new condition (e.g., `temp > 35`) might be true!\""
   ]
  },
  {
   "cell_type": "code",
   "execution_count": 8,
   "id": "35ba90f5",
   "metadata": {
    "execution": {
     "iopub.execute_input": "2022-06-08T16:57:58.441885Z",
     "iopub.status.busy": "2022-06-08T16:57:58.441522Z",
     "iopub.status.idle": "2022-06-08T16:57:58.446664Z",
     "shell.execute_reply": "2022-06-08T16:57:58.445672Z"
    },
    "papermill": {
     "duration": 0.014501,
     "end_time": "2022-06-08T16:57:58.448600",
     "exception": false,
     "start_time": "2022-06-08T16:57:58.434099",
     "status": "completed"
    },
    "tags": []
   },
   "outputs": [],
   "source": [
    "def evaluate_temp_with_elif(temp):\n",
    "    if temp > 38:\n",
    "        message = \"Fever!\"\n",
    "    elif temp > 35:\n",
    "        message = \"Normal temperature.\"\n",
    "    else:\n",
    "        message = \"Low temperature.\"\n",
    "    return message"
   ]
  },
  {
   "cell_type": "markdown",
   "id": "ecf2eb46",
   "metadata": {
    "papermill": {
     "duration": 0.006133,
     "end_time": "2022-06-08T16:57:58.461077",
     "exception": false,
     "start_time": "2022-06-08T16:57:58.454944",
     "status": "completed"
    },
    "tags": []
   },
   "source": [
    "In the code cell below, we run the code under the \"elif\" statement, because `temp > 38` is `False`, and `temp > 35` is `True`.  Once this code is run, the function skips over the \"else\" statement and returns the message."
   ]
  },
  {
   "cell_type": "code",
   "execution_count": 9,
   "id": "4133edc4",
   "metadata": {
    "execution": {
     "iopub.execute_input": "2022-06-08T16:57:58.475453Z",
     "iopub.status.busy": "2022-06-08T16:57:58.474798Z",
     "iopub.status.idle": "2022-06-08T16:57:58.482571Z",
     "shell.execute_reply": "2022-06-08T16:57:58.481660Z"
    },
    "papermill": {
     "duration": 0.016909,
     "end_time": "2022-06-08T16:57:58.484337",
     "exception": false,
     "start_time": "2022-06-08T16:57:58.467428",
     "status": "completed"
    },
    "tags": []
   },
   "outputs": [
    {
     "data": {
      "text/plain": [
       "'Normal temperature.'"
      ]
     },
     "execution_count": 9,
     "metadata": {},
     "output_type": "execute_result"
    }
   ],
   "source": [
    "evaluate_temp_with_elif(36)"
   ]
  },
  {
   "cell_type": "markdown",
   "id": "a7b99c80",
   "metadata": {
    "papermill": {
     "duration": 0.006765,
     "end_time": "2022-06-08T16:57:58.497695",
     "exception": false,
     "start_time": "2022-06-08T16:57:58.490930",
     "status": "completed"
    },
    "tags": []
   },
   "source": [
    "Finally, we try out a case where the temperature is less than 35°C.  Since the conditionals in the \"if\" and \"elif\" statements both evaluate to `False`, the code block inside the \"else\" statement is executed."
   ]
  },
  {
   "cell_type": "code",
   "execution_count": 10,
   "id": "0f2324fb",
   "metadata": {
    "execution": {
     "iopub.execute_input": "2022-06-08T16:57:58.511817Z",
     "iopub.status.busy": "2022-06-08T16:57:58.511053Z",
     "iopub.status.idle": "2022-06-08T16:57:58.517150Z",
     "shell.execute_reply": "2022-06-08T16:57:58.516497Z"
    },
    "papermill": {
     "duration": 0.015131,
     "end_time": "2022-06-08T16:57:58.519113",
     "exception": false,
     "start_time": "2022-06-08T16:57:58.503982",
     "status": "completed"
    },
    "tags": []
   },
   "outputs": [
    {
     "data": {
      "text/plain": [
       "'Low temperature.'"
      ]
     },
     "execution_count": 10,
     "metadata": {},
     "output_type": "execute_result"
    }
   ],
   "source": [
    "evaluate_temp_with_elif(34)"
   ]
  },
  {
   "cell_type": "markdown",
   "id": "79ddc3d1",
   "metadata": {
    "papermill": {
     "duration": 0.006456,
     "end_time": "2022-06-08T16:57:58.532107",
     "exception": false,
     "start_time": "2022-06-08T16:57:58.525651",
     "status": "completed"
    },
    "tags": []
   },
   "source": [
    "# Example - Calculations\n",
    "\n",
    "In the examples so far, conditional statements were used to decide how to set the values of variables.  But you can also use conditional statements to perform different calculations.\n",
    "\n",
    "In this next example, say you live in a country with only two tax brackets.  Everyone earning less than 12,000 pays 25% in taxes, and anyone earning 12,000 or more pays 30%.  The function below calculates how much tax is owed."
   ]
  },
  {
   "cell_type": "code",
   "execution_count": 11,
   "id": "12008e02",
   "metadata": {
    "execution": {
     "iopub.execute_input": "2022-06-08T16:57:58.546924Z",
     "iopub.status.busy": "2022-06-08T16:57:58.546516Z",
     "iopub.status.idle": "2022-06-08T16:57:58.551181Z",
     "shell.execute_reply": "2022-06-08T16:57:58.550426Z"
    },
    "papermill": {
     "duration": 0.0143,
     "end_time": "2022-06-08T16:57:58.552953",
     "exception": false,
     "start_time": "2022-06-08T16:57:58.538653",
     "status": "completed"
    },
    "tags": []
   },
   "outputs": [],
   "source": [
    "def get_taxes(earnings):\n",
    "    if earnings < 12000:\n",
    "        tax_owed = .25 * earnings\n",
    "    else:\n",
    "        tax_owed = .30 * earnings\n",
    "    return tax_owed"
   ]
  },
  {
   "cell_type": "markdown",
   "id": "7fad2bdd",
   "metadata": {
    "papermill": {
     "duration": 0.006317,
     "end_time": "2022-06-08T16:57:58.566009",
     "exception": false,
     "start_time": "2022-06-08T16:57:58.559692",
     "status": "completed"
    },
    "tags": []
   },
   "source": [
    "The next code cell uses the function."
   ]
  },
  {
   "cell_type": "code",
   "execution_count": 12,
   "id": "98fe9218",
   "metadata": {
    "execution": {
     "iopub.execute_input": "2022-06-08T16:57:58.580747Z",
     "iopub.status.busy": "2022-06-08T16:57:58.580178Z",
     "iopub.status.idle": "2022-06-08T16:57:58.584723Z",
     "shell.execute_reply": "2022-06-08T16:57:58.583915Z"
    },
    "papermill": {
     "duration": 0.014057,
     "end_time": "2022-06-08T16:57:58.586571",
     "exception": false,
     "start_time": "2022-06-08T16:57:58.572514",
     "status": "completed"
    },
    "tags": []
   },
   "outputs": [
    {
     "name": "stdout",
     "output_type": "stream",
     "text": [
      "2250.0\n",
      "4500.0\n"
     ]
    }
   ],
   "source": [
    "ana_taxes = get_taxes(9000)\n",
    "bob_taxes = get_taxes(15000)\n",
    "\n",
    "print(ana_taxes)\n",
    "print(bob_taxes)"
   ]
  },
  {
   "cell_type": "markdown",
   "id": "39c5e891",
   "metadata": {
    "papermill": {
     "duration": 0.006423,
     "end_time": "2022-06-08T16:57:58.599786",
     "exception": false,
     "start_time": "2022-06-08T16:57:58.593363",
     "status": "completed"
    },
    "tags": []
   },
   "source": [
    "In each case, we call the `get_taxes()` function and use the value that is returned to set the value of a variable.\n",
    "- For `ana_taxes`, we calculate taxes owed by a person who earns 9,000.  In this case, we call the `get_taxes()` function with `earnings` set to `9000`.  Thus, `earnings < 12000` is `True`, and `tax_owed` is set to `.25 * 9000`.  Then we return the value of `tax_owed`.\n",
    "- For `bob_taxes`, we calculate taxes owed by a person who earns 15,000.  In this case, we call the `get_taxes()` function with `earnings` set to `15000`.  Thus, `earnings < 12000` is `False`, and `tax_owed` is set to `.30 * 15000`.  Then we return the value of `tax_owed`.\n",
    "\n",
    "Before we move on to another example - remember the `add_three_or_eight()` function from the introduction?  It accepts a number as input and adds three if the input is less than 10, and otherwise adds eight.  Can you figure out how you would write this function?  Once you have an answer, click on the \"Show hidden code\" button below to see the solution."
   ]
  },
  {
   "cell_type": "code",
   "execution_count": 13,
   "id": "9625b3ec",
   "metadata": {
    "_kg_hide-input": true,
    "execution": {
     "iopub.execute_input": "2022-06-08T16:57:58.614797Z",
     "iopub.status.busy": "2022-06-08T16:57:58.614374Z",
     "iopub.status.idle": "2022-06-08T16:57:58.619358Z",
     "shell.execute_reply": "2022-06-08T16:57:58.618349Z"
    },
    "papermill": {
     "duration": 0.014687,
     "end_time": "2022-06-08T16:57:58.621196",
     "exception": false,
     "start_time": "2022-06-08T16:57:58.606509",
     "status": "completed"
    },
    "tags": []
   },
   "outputs": [],
   "source": [
    "\n",
    "def add_three_or_eight(number):\n",
    "    if number < 10:\n",
    "        result = number + 3\n",
    "    else:\n",
    "        result = number + 8\n",
    "    return result"
   ]
  },
  {
   "cell_type": "markdown",
   "id": "8ee5945c",
   "metadata": {
    "papermill": {
     "duration": 0.006115,
     "end_time": "2022-06-08T16:57:58.633927",
     "exception": false,
     "start_time": "2022-06-08T16:57:58.627812",
     "status": "completed"
    },
    "tags": []
   },
   "source": [
    "# Example - Multiple \"elif\" statements\n",
    "\n",
    "So far, you have seen \"elif\" used only once in a function.  But there's no limit to the number of \"elif\" statements you can use.  For instance, the next block of code calculates the dose of medication (in milliliters) to give to a child, based on weight (in kilograms).\n",
    "\n",
    "Note: This function should not be used as medical advice, and represents a fake medication."
   ]
  },
  {
   "cell_type": "code",
   "execution_count": 14,
   "id": "34b50f80",
   "metadata": {
    "execution": {
     "iopub.execute_input": "2022-06-08T16:57:58.648402Z",
     "iopub.status.busy": "2022-06-08T16:57:58.648052Z",
     "iopub.status.idle": "2022-06-08T16:57:58.653579Z",
     "shell.execute_reply": "2022-06-08T16:57:58.652486Z"
    },
    "papermill": {
     "duration": 0.015014,
     "end_time": "2022-06-08T16:57:58.655377",
     "exception": false,
     "start_time": "2022-06-08T16:57:58.640363",
     "status": "completed"
    },
    "tags": []
   },
   "outputs": [],
   "source": [
    "def get_dose(weight):\n",
    "    # Dosage is 1.25 ml for anyone under 5.2 kg\n",
    "    if weight < 5.2:\n",
    "        dose = 1.25\n",
    "    elif weight < 7.9:\n",
    "        dose = 2.5\n",
    "    elif weight < 10.4:\n",
    "        dose = 3.75\n",
    "    elif weight < 15.9:\n",
    "        dose = 5\n",
    "    elif weight < 21.2:\n",
    "        dose = 7.5\n",
    "    # Dosage is 10 ml for anyone 21.2 kg or over\n",
    "    else:\n",
    "        dose = 10\n",
    "    return dose"
   ]
  },
  {
   "cell_type": "markdown",
   "id": "db68cf7c",
   "metadata": {
    "papermill": {
     "duration": 0.006198,
     "end_time": "2022-06-08T16:57:58.668080",
     "exception": false,
     "start_time": "2022-06-08T16:57:58.661882",
     "status": "completed"
    },
    "tags": []
   },
   "source": [
    "The next code cell runs the function.  Make sure that the output makes sense to you!\n",
    "- In this case, the \"if\" statement was `False`, and all of the \"elif\" statements evaluate to `False`, until we get to `weight < 15.9`, which is `True`, and `dose` is set to 5.\n",
    "- Once an \"elif\" statement evaluates to `True` and the code block is run, the function skips over all remaining \"elif\" and \"else\" statements.  After skipping these, all that is left is the return statement, which returns the value of `dose`.\n",
    "- The order of the `elif` statements does matter here!  Re-ordering the statements will return a very different result."
   ]
  },
  {
   "cell_type": "code",
   "execution_count": 15,
   "id": "541a1903",
   "metadata": {
    "execution": {
     "iopub.execute_input": "2022-06-08T16:57:58.683233Z",
     "iopub.status.busy": "2022-06-08T16:57:58.682367Z",
     "iopub.status.idle": "2022-06-08T16:57:58.687555Z",
     "shell.execute_reply": "2022-06-08T16:57:58.686414Z"
    },
    "papermill": {
     "duration": 0.014343,
     "end_time": "2022-06-08T16:57:58.689242",
     "exception": false,
     "start_time": "2022-06-08T16:57:58.674899",
     "status": "completed"
    },
    "tags": []
   },
   "outputs": [
    {
     "name": "stdout",
     "output_type": "stream",
     "text": [
      "5\n"
     ]
    }
   ],
   "source": [
    "print(get_dose(12))"
   ]
  },
  {
   "cell_type": "markdown",
   "id": "35c13be7",
   "metadata": {
    "papermill": {
     "duration": 0.006686,
     "end_time": "2022-06-08T16:57:58.702917",
     "exception": false,
     "start_time": "2022-06-08T16:57:58.696231",
     "status": "completed"
    },
    "tags": []
   },
   "source": [
    "Make sure this makes sense to you!  Once you're ready, use the link below to move on to the exercise.\n",
    "\n",
    "# Your turn\n",
    "\n",
    "Use what you have learned to **[write your own conditionals and conditional statements](https://www.kaggle.com/kernels/fork/25880622)**."
   ]
  },
  {
   "cell_type": "markdown",
   "id": "80681d80",
   "metadata": {
    "papermill": {
     "duration": 0.00684,
     "end_time": "2022-06-08T16:57:58.716681",
     "exception": false,
     "start_time": "2022-06-08T16:57:58.709841",
     "status": "completed"
    },
    "tags": []
   },
   "source": [
    "---\n",
    "\n",
    "\n",
    "\n",
    "\n",
    "*Have questions or comments? Visit the [course discussion forum](https://www.kaggle.com/learn/intro-to-programming/discussion) to chat with other learners.*"
   ]
  }
 ],
 "metadata": {
  "kernelspec": {
   "display_name": "Python 3",
   "language": "python",
   "name": "python3"
  },
  "language_info": {
   "codemirror_mode": {
    "name": "ipython",
    "version": 3
   },
   "file_extension": ".py",
   "mimetype": "text/x-python",
   "name": "python",
   "nbconvert_exporter": "python",
   "pygments_lexer": "ipython3",
   "version": "3.7.12"
  },
  "papermill": {
   "default_parameters": {},
   "duration": 9.698286,
   "end_time": "2022-06-08T16:57:59.343611",
   "environment_variables": {},
   "exception": null,
   "input_path": "__notebook__.ipynb",
   "output_path": "__notebook__.ipynb",
   "parameters": {},
   "start_time": "2022-06-08T16:57:49.645325",
   "version": "2.3.4"
  }
 },
 "nbformat": 4,
 "nbformat_minor": 5
}
