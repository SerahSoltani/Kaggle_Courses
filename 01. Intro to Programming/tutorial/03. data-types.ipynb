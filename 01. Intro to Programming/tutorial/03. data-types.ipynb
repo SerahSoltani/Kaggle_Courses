{
 "cells": [
  {
   "cell_type": "markdown",
   "id": "78029dce",
   "metadata": {
    "papermill": {
     "duration": 0.014125,
     "end_time": "2022-06-06T19:02:34.547656",
     "exception": false,
     "start_time": "2022-06-06T19:02:34.533531",
     "status": "completed"
    },
    "tags": []
   },
   "source": [
    "# Introduction\n",
    "\n",
    "Whenever you create a variable in Python, it has a value with a corresponding data type.  There are many different data types, such as integers, floats, booleans, and strings, all of which we'll cover in this lesson.  (This is just a small subset of the available data types -- there are also dictionaries, sets, lists, tuples, and much more.)\n",
    "\n",
    "Data types are important, because they determine what kinds of actions you can do with them.  For instance, you can divide two floats, but you cannot divide two strings.  For instance, `12.0/2.0` makes sense, but `\"cat\"/\"dog\"` does not.\n",
    "\n",
    "To avoid errors, we need to make sure that the actions match the data types that we have."
   ]
  },
  {
   "cell_type": "markdown",
   "id": "826320d5",
   "metadata": {
    "papermill": {
     "duration": 0.009334,
     "end_time": "2022-06-06T19:02:34.567169",
     "exception": false,
     "start_time": "2022-06-06T19:02:34.557835",
     "status": "completed"
    },
    "tags": []
   },
   "source": [
    "# Integers \n",
    "\n",
    "Integers are numbers without any fractional part and can be positive (`1`, `2`, `3`, ...), negative (`-1`, `-2`, `-3`, ...), or zero (`0`).    \n",
    "\n",
    "In the code cell below, we set a variable `x` to an integer.  We then verify the data type with `type()`, and need only pass the variable name into the parentheses."
   ]
  },
  {
   "cell_type": "code",
   "execution_count": 1,
   "id": "113ed235",
   "metadata": {
    "execution": {
     "iopub.execute_input": "2022-06-06T19:02:34.588019Z",
     "iopub.status.busy": "2022-06-06T19:02:34.587427Z",
     "iopub.status.idle": "2022-06-06T19:02:34.600518Z",
     "shell.execute_reply": "2022-06-06T19:02:34.599365Z"
    },
    "papermill": {
     "duration": 0.026373,
     "end_time": "2022-06-06T19:02:34.602922",
     "exception": false,
     "start_time": "2022-06-06T19:02:34.576549",
     "status": "completed"
    },
    "tags": []
   },
   "outputs": [
    {
     "name": "stdout",
     "output_type": "stream",
     "text": [
      "14\n",
      "<class 'int'>\n"
     ]
    }
   ],
   "source": [
    "x = 14\n",
    "print(x)\n",
    "print(type(x))"
   ]
  },
  {
   "cell_type": "markdown",
   "id": "5c73a5e1",
   "metadata": {
    "papermill": {
     "duration": 0.00967,
     "end_time": "2022-06-06T19:02:34.622786",
     "exception": false,
     "start_time": "2022-06-06T19:02:34.613116",
     "status": "completed"
    },
    "tags": []
   },
   "source": [
    "In the output above, `<class 'int'>` refers to the **int**eger data type.\n",
    "\n",
    "# Floats\n",
    "\n",
    "Floats are numbers with fractional parts. They can have many numbers after decimal."
   ]
  },
  {
   "cell_type": "code",
   "execution_count": 2,
   "id": "7dc6d257",
   "metadata": {
    "execution": {
     "iopub.execute_input": "2022-06-06T19:02:34.645007Z",
     "iopub.status.busy": "2022-06-06T19:02:34.643649Z",
     "iopub.status.idle": "2022-06-06T19:02:34.650550Z",
     "shell.execute_reply": "2022-06-06T19:02:34.649418Z"
    },
    "papermill": {
     "duration": 0.019906,
     "end_time": "2022-06-06T19:02:34.652764",
     "exception": false,
     "start_time": "2022-06-06T19:02:34.632858",
     "status": "completed"
    },
    "tags": []
   },
   "outputs": [
    {
     "name": "stdout",
     "output_type": "stream",
     "text": [
      "3.141592653589793\n",
      "<class 'float'>\n"
     ]
    }
   ],
   "source": [
    "nearly_pi = 3.141592653589793238462643383279502884197169399375105820974944\n",
    "print(nearly_pi)\n",
    "print(type(nearly_pi))"
   ]
  },
  {
   "cell_type": "markdown",
   "id": "93d0703c",
   "metadata": {
    "papermill": {
     "duration": 0.009124,
     "end_time": "2022-06-06T19:02:34.671853",
     "exception": false,
     "start_time": "2022-06-06T19:02:34.662729",
     "status": "completed"
    },
    "tags": []
   },
   "source": [
    "We can also specify a float with a fraction."
   ]
  },
  {
   "cell_type": "code",
   "execution_count": 3,
   "id": "946e0e5a",
   "metadata": {
    "execution": {
     "iopub.execute_input": "2022-06-06T19:02:34.693844Z",
     "iopub.status.busy": "2022-06-06T19:02:34.693142Z",
     "iopub.status.idle": "2022-06-06T19:02:34.699014Z",
     "shell.execute_reply": "2022-06-06T19:02:34.697770Z"
    },
    "papermill": {
     "duration": 0.019415,
     "end_time": "2022-06-06T19:02:34.701361",
     "exception": false,
     "start_time": "2022-06-06T19:02:34.681946",
     "status": "completed"
    },
    "tags": []
   },
   "outputs": [
    {
     "name": "stdout",
     "output_type": "stream",
     "text": [
      "3.142857142857143\n",
      "<class 'float'>\n"
     ]
    }
   ],
   "source": [
    "almost_pi = 22/7\n",
    "print(almost_pi)\n",
    "print(type(almost_pi))"
   ]
  },
  {
   "cell_type": "markdown",
   "id": "8644da6b",
   "metadata": {
    "papermill": {
     "duration": 0.00946,
     "end_time": "2022-06-06T19:02:34.720728",
     "exception": false,
     "start_time": "2022-06-06T19:02:34.711268",
     "status": "completed"
    },
    "tags": []
   },
   "source": [
    "One function that is particularly useful for fractions is the `round()` function.  It lets you round a number to a specified number of decimal places.  "
   ]
  },
  {
   "cell_type": "code",
   "execution_count": 4,
   "id": "5ace3fbd",
   "metadata": {
    "execution": {
     "iopub.execute_input": "2022-06-06T19:02:34.743010Z",
     "iopub.status.busy": "2022-06-06T19:02:34.742512Z",
     "iopub.status.idle": "2022-06-06T19:02:34.747942Z",
     "shell.execute_reply": "2022-06-06T19:02:34.747151Z"
    },
    "papermill": {
     "duration": 0.019961,
     "end_time": "2022-06-06T19:02:34.750697",
     "exception": false,
     "start_time": "2022-06-06T19:02:34.730736",
     "status": "completed"
    },
    "tags": []
   },
   "outputs": [
    {
     "name": "stdout",
     "output_type": "stream",
     "text": [
      "3.14286\n",
      "<class 'float'>\n"
     ]
    }
   ],
   "source": [
    "# Round to 5 decimal places\n",
    "rounded_pi = round(almost_pi, 5)\n",
    "print(rounded_pi)\n",
    "print(type(rounded_pi))"
   ]
  },
  {
   "cell_type": "markdown",
   "id": "a2ffafe8",
   "metadata": {
    "papermill": {
     "duration": 0.00934,
     "end_time": "2022-06-06T19:02:34.769938",
     "exception": false,
     "start_time": "2022-06-06T19:02:34.760598",
     "status": "completed"
    },
    "tags": []
   },
   "source": [
    "Whenever you write an number with a decimal point, Python recognizes it as a float data type.  \n",
    "\n",
    "For instance, `1.` (or `1.0`, `1.00`, etc) will be recognized as a float.  This is the case, even though these numbers technically have no fractional part!"
   ]
  },
  {
   "cell_type": "code",
   "execution_count": 5,
   "id": "02476894",
   "metadata": {
    "execution": {
     "iopub.execute_input": "2022-06-06T19:02:34.792011Z",
     "iopub.status.busy": "2022-06-06T19:02:34.791022Z",
     "iopub.status.idle": "2022-06-06T19:02:34.797932Z",
     "shell.execute_reply": "2022-06-06T19:02:34.796554Z"
    },
    "papermill": {
     "duration": 0.020379,
     "end_time": "2022-06-06T19:02:34.800149",
     "exception": false,
     "start_time": "2022-06-06T19:02:34.779770",
     "status": "completed"
    },
    "tags": []
   },
   "outputs": [
    {
     "name": "stdout",
     "output_type": "stream",
     "text": [
      "1.0\n",
      "<class 'float'>\n"
     ]
    }
   ],
   "source": [
    "y_float = 1.\n",
    "print(y_float)\n",
    "print(type(y_float))"
   ]
  },
  {
   "cell_type": "markdown",
   "id": "421e80a5",
   "metadata": {
    "papermill": {
     "duration": 0.009472,
     "end_time": "2022-06-06T19:02:34.819472",
     "exception": false,
     "start_time": "2022-06-06T19:02:34.810000",
     "status": "completed"
    },
    "tags": []
   },
   "source": [
    "# Booleans\n",
    "\n",
    "Booleans represent one of two values: `True` or `False`.  In the code cell below, `z_one` is set to a boolean with value `True`."
   ]
  },
  {
   "cell_type": "code",
   "execution_count": 6,
   "id": "75ca20ac",
   "metadata": {
    "execution": {
     "iopub.execute_input": "2022-06-06T19:02:34.843356Z",
     "iopub.status.busy": "2022-06-06T19:02:34.842781Z",
     "iopub.status.idle": "2022-06-06T19:02:34.848114Z",
     "shell.execute_reply": "2022-06-06T19:02:34.847176Z"
    },
    "papermill": {
     "duration": 0.021627,
     "end_time": "2022-06-06T19:02:34.851420",
     "exception": false,
     "start_time": "2022-06-06T19:02:34.829793",
     "status": "completed"
    },
    "tags": []
   },
   "outputs": [
    {
     "name": "stdout",
     "output_type": "stream",
     "text": [
      "True\n",
      "<class 'bool'>\n"
     ]
    }
   ],
   "source": [
    "z_one = True\n",
    "print(z_one)\n",
    "print(type(z_one))"
   ]
  },
  {
   "cell_type": "markdown",
   "id": "b52c7445",
   "metadata": {
    "papermill": {
     "duration": 0.00979,
     "end_time": "2022-06-06T19:02:34.871957",
     "exception": false,
     "start_time": "2022-06-06T19:02:34.862167",
     "status": "completed"
    },
    "tags": []
   },
   "source": [
    "Next, `z_two` is set to a boolean with value `False`."
   ]
  },
  {
   "cell_type": "code",
   "execution_count": 7,
   "id": "7b8488f1",
   "metadata": {
    "execution": {
     "iopub.execute_input": "2022-06-06T19:02:34.893654Z",
     "iopub.status.busy": "2022-06-06T19:02:34.893148Z",
     "iopub.status.idle": "2022-06-06T19:02:34.898478Z",
     "shell.execute_reply": "2022-06-06T19:02:34.897532Z"
    },
    "papermill": {
     "duration": 0.019336,
     "end_time": "2022-06-06T19:02:34.901161",
     "exception": false,
     "start_time": "2022-06-06T19:02:34.881825",
     "status": "completed"
    },
    "tags": []
   },
   "outputs": [
    {
     "name": "stdout",
     "output_type": "stream",
     "text": [
      "False\n",
      "<class 'bool'>\n"
     ]
    }
   ],
   "source": [
    "z_two = False\n",
    "print(z_two)\n",
    "print(type(z_two))"
   ]
  },
  {
   "cell_type": "markdown",
   "id": "33d6da76",
   "metadata": {
    "papermill": {
     "duration": 0.009373,
     "end_time": "2022-06-06T19:02:34.920438",
     "exception": false,
     "start_time": "2022-06-06T19:02:34.911065",
     "status": "completed"
    },
    "tags": []
   },
   "source": [
    "Booleans are used to represent the truth value of an expression.  Since `1 < 2` is a true statement, `z_three` takes on a value of `True`."
   ]
  },
  {
   "cell_type": "code",
   "execution_count": 8,
   "id": "22aa975f",
   "metadata": {
    "execution": {
     "iopub.execute_input": "2022-06-06T19:02:34.942667Z",
     "iopub.status.busy": "2022-06-06T19:02:34.942144Z",
     "iopub.status.idle": "2022-06-06T19:02:34.947253Z",
     "shell.execute_reply": "2022-06-06T19:02:34.946466Z"
    },
    "papermill": {
     "duration": 0.019863,
     "end_time": "2022-06-06T19:02:34.950252",
     "exception": false,
     "start_time": "2022-06-06T19:02:34.930389",
     "status": "completed"
    },
    "tags": []
   },
   "outputs": [
    {
     "name": "stdout",
     "output_type": "stream",
     "text": [
      "True\n",
      "<class 'bool'>\n"
     ]
    }
   ],
   "source": [
    "z_three = (1 < 2)\n",
    "print(z_three)\n",
    "print(type(z_three))"
   ]
  },
  {
   "cell_type": "markdown",
   "id": "da43d217",
   "metadata": {
    "papermill": {
     "duration": 0.009788,
     "end_time": "2022-06-06T19:02:34.969945",
     "exception": false,
     "start_time": "2022-06-06T19:02:34.960157",
     "status": "completed"
    },
    "tags": []
   },
   "source": [
    "Similarly, since `5 < 3` is a false statement, `z_four` takes on a value of `False`."
   ]
  },
  {
   "cell_type": "code",
   "execution_count": 9,
   "id": "2559a45f",
   "metadata": {
    "execution": {
     "iopub.execute_input": "2022-06-06T19:02:34.993505Z",
     "iopub.status.busy": "2022-06-06T19:02:34.992785Z",
     "iopub.status.idle": "2022-06-06T19:02:34.998779Z",
     "shell.execute_reply": "2022-06-06T19:02:34.997622Z"
    },
    "papermill": {
     "duration": 0.020511,
     "end_time": "2022-06-06T19:02:35.001376",
     "exception": false,
     "start_time": "2022-06-06T19:02:34.980865",
     "status": "completed"
    },
    "tags": []
   },
   "outputs": [
    {
     "name": "stdout",
     "output_type": "stream",
     "text": [
      "False\n",
      "<class 'bool'>\n"
     ]
    }
   ],
   "source": [
    "z_four = (5 < 3)\n",
    "print(z_four)\n",
    "print(type(z_four))"
   ]
  },
  {
   "cell_type": "markdown",
   "id": "2dfc4a86",
   "metadata": {
    "papermill": {
     "duration": 0.009661,
     "end_time": "2022-06-06T19:02:35.021456",
     "exception": false,
     "start_time": "2022-06-06T19:02:35.011795",
     "status": "completed"
    },
    "tags": []
   },
   "source": [
    "We can switch the value of a boolean by using `not`.  So, `not True` is equivalent to `False`, and `not False` becomes `True`."
   ]
  },
  {
   "cell_type": "code",
   "execution_count": 10,
   "id": "05e86779",
   "metadata": {
    "execution": {
     "iopub.execute_input": "2022-06-06T19:02:35.043609Z",
     "iopub.status.busy": "2022-06-06T19:02:35.043044Z",
     "iopub.status.idle": "2022-06-06T19:02:35.050487Z",
     "shell.execute_reply": "2022-06-06T19:02:35.049213Z"
    },
    "papermill": {
     "duration": 0.022489,
     "end_time": "2022-06-06T19:02:35.053993",
     "exception": false,
     "start_time": "2022-06-06T19:02:35.031504",
     "status": "completed"
    },
    "tags": []
   },
   "outputs": [
    {
     "name": "stdout",
     "output_type": "stream",
     "text": [
      "True\n",
      "<class 'bool'>\n"
     ]
    }
   ],
   "source": [
    "z_five = not z_four\n",
    "print(z_five)\n",
    "print(type(z_five))"
   ]
  },
  {
   "cell_type": "markdown",
   "id": "39a75d1e",
   "metadata": {
    "papermill": {
     "duration": 0.009724,
     "end_time": "2022-06-06T19:02:35.073895",
     "exception": false,
     "start_time": "2022-06-06T19:02:35.064171",
     "status": "completed"
    },
    "tags": []
   },
   "source": [
    "Booleans will be important in the next lesson, when you learn about conditions and conditional statements.\n",
    "\n",
    "# Strings\n",
    "\n",
    "The string data type is a collection of characters (like alphabet letters, punctuation, numerical digits, or symbols) contained in quotation marks.  Strings are commonly used to represent text."
   ]
  },
  {
   "cell_type": "code",
   "execution_count": 11,
   "id": "0aacb6cc",
   "metadata": {
    "execution": {
     "iopub.execute_input": "2022-06-06T19:02:35.099630Z",
     "iopub.status.busy": "2022-06-06T19:02:35.098185Z",
     "iopub.status.idle": "2022-06-06T19:02:35.105853Z",
     "shell.execute_reply": "2022-06-06T19:02:35.104573Z"
    },
    "papermill": {
     "duration": 0.023962,
     "end_time": "2022-06-06T19:02:35.108722",
     "exception": false,
     "start_time": "2022-06-06T19:02:35.084760",
     "status": "completed"
    },
    "tags": []
   },
   "outputs": [
    {
     "name": "stdout",
     "output_type": "stream",
     "text": [
      "Hello, Python!\n",
      "<class 'str'>\n"
     ]
    }
   ],
   "source": [
    "w = \"Hello, Python!\"\n",
    "print(w)\n",
    "print(type(w))"
   ]
  },
  {
   "cell_type": "markdown",
   "id": "fe2b059a",
   "metadata": {
    "papermill": {
     "duration": 0.010024,
     "end_time": "2022-06-06T19:02:35.129117",
     "exception": false,
     "start_time": "2022-06-06T19:02:35.119093",
     "status": "completed"
    },
    "tags": []
   },
   "source": [
    "You can get the length of a string with `len()`.  `\"Hello, Python!\"` has length 14, because it has 14 characters, including the space, comma, and exclamation mark.  Note that the quotation marks are not included when calculating the length."
   ]
  },
  {
   "cell_type": "code",
   "execution_count": 12,
   "id": "9feed400",
   "metadata": {
    "execution": {
     "iopub.execute_input": "2022-06-06T19:02:35.153439Z",
     "iopub.status.busy": "2022-06-06T19:02:35.152904Z",
     "iopub.status.idle": "2022-06-06T19:02:35.159348Z",
     "shell.execute_reply": "2022-06-06T19:02:35.158167Z"
    },
    "papermill": {
     "duration": 0.020865,
     "end_time": "2022-06-06T19:02:35.161577",
     "exception": false,
     "start_time": "2022-06-06T19:02:35.140712",
     "status": "completed"
    },
    "tags": []
   },
   "outputs": [
    {
     "name": "stdout",
     "output_type": "stream",
     "text": [
      "14\n"
     ]
    }
   ],
   "source": [
    "print(len(w))"
   ]
  },
  {
   "cell_type": "markdown",
   "id": "63fd8725",
   "metadata": {
    "papermill": {
     "duration": 0.01039,
     "end_time": "2022-06-06T19:02:35.182935",
     "exception": false,
     "start_time": "2022-06-06T19:02:35.172545",
     "status": "completed"
    },
    "tags": []
   },
   "source": [
    "One special type of string is the empty string, which has length zero."
   ]
  },
  {
   "cell_type": "code",
   "execution_count": 13,
   "id": "d7f371f6",
   "metadata": {
    "execution": {
     "iopub.execute_input": "2022-06-06T19:02:35.206858Z",
     "iopub.status.busy": "2022-06-06T19:02:35.206386Z",
     "iopub.status.idle": "2022-06-06T19:02:35.212479Z",
     "shell.execute_reply": "2022-06-06T19:02:35.211375Z"
    },
    "papermill": {
     "duration": 0.021214,
     "end_time": "2022-06-06T19:02:35.215153",
     "exception": false,
     "start_time": "2022-06-06T19:02:35.193939",
     "status": "completed"
    },
    "tags": []
   },
   "outputs": [
    {
     "name": "stdout",
     "output_type": "stream",
     "text": [
      "<class 'str'>\n",
      "0\n"
     ]
    }
   ],
   "source": [
    "shortest_string = \"\"\n",
    "print(type(shortest_string))\n",
    "print(len(shortest_string))"
   ]
  },
  {
   "cell_type": "markdown",
   "id": "9c2ad6a9",
   "metadata": {
    "papermill": {
     "duration": 0.01063,
     "end_time": "2022-06-06T19:02:35.236818",
     "exception": false,
     "start_time": "2022-06-06T19:02:35.226188",
     "status": "completed"
    },
    "tags": []
   },
   "source": [
    "If you put a number in quotation marks, it has a string data type."
   ]
  },
  {
   "cell_type": "code",
   "execution_count": 14,
   "id": "ce5782d6",
   "metadata": {
    "execution": {
     "iopub.execute_input": "2022-06-06T19:02:35.261174Z",
     "iopub.status.busy": "2022-06-06T19:02:35.260665Z",
     "iopub.status.idle": "2022-06-06T19:02:35.267081Z",
     "shell.execute_reply": "2022-06-06T19:02:35.265998Z"
    },
    "papermill": {
     "duration": 0.021391,
     "end_time": "2022-06-06T19:02:35.269443",
     "exception": false,
     "start_time": "2022-06-06T19:02:35.248052",
     "status": "completed"
    },
    "tags": []
   },
   "outputs": [
    {
     "name": "stdout",
     "output_type": "stream",
     "text": [
      "1.12321\n",
      "<class 'str'>\n"
     ]
    }
   ],
   "source": [
    "my_number = \"1.12321\"\n",
    "print(my_number)\n",
    "print(type(my_number))"
   ]
  },
  {
   "cell_type": "markdown",
   "id": "b1627e6e",
   "metadata": {
    "papermill": {
     "duration": 0.010242,
     "end_time": "2022-06-06T19:02:35.290811",
     "exception": false,
     "start_time": "2022-06-06T19:02:35.280569",
     "status": "completed"
    },
    "tags": []
   },
   "source": [
    "If we have a string that is convertible to a float, we can use `float()`.  \n",
    "\n",
    "This won't always work!  For instance, we can convert `\"10.43430\"` and `\"3\"` to floats, but we cannot convert `\"Hello, Python!\"` to a float."
   ]
  },
  {
   "cell_type": "code",
   "execution_count": 15,
   "id": "49baee27",
   "metadata": {
    "execution": {
     "iopub.execute_input": "2022-06-06T19:02:35.313976Z",
     "iopub.status.busy": "2022-06-06T19:02:35.313437Z",
     "iopub.status.idle": "2022-06-06T19:02:35.319752Z",
     "shell.execute_reply": "2022-06-06T19:02:35.318383Z"
    },
    "papermill": {
     "duration": 0.02159,
     "end_time": "2022-06-06T19:02:35.323023",
     "exception": false,
     "start_time": "2022-06-06T19:02:35.301433",
     "status": "completed"
    },
    "tags": []
   },
   "outputs": [
    {
     "name": "stdout",
     "output_type": "stream",
     "text": [
      "1.12321\n",
      "<class 'float'>\n"
     ]
    }
   ],
   "source": [
    "also_my_number = float(my_number)\n",
    "print(also_my_number)\n",
    "print(type(also_my_number))"
   ]
  },
  {
   "cell_type": "markdown",
   "id": "f9e71c3f",
   "metadata": {
    "papermill": {
     "duration": 0.010048,
     "end_time": "2022-06-06T19:02:35.343701",
     "exception": false,
     "start_time": "2022-06-06T19:02:35.333653",
     "status": "completed"
    },
    "tags": []
   },
   "source": [
    "Just like you can add two numbers (floats or integers), you can also add two strings.  It results in a longer string that combines the two original strings by concatenating them."
   ]
  },
  {
   "cell_type": "code",
   "execution_count": 16,
   "id": "df0f3a78",
   "metadata": {
    "execution": {
     "iopub.execute_input": "2022-06-06T19:02:35.367386Z",
     "iopub.status.busy": "2022-06-06T19:02:35.366863Z",
     "iopub.status.idle": "2022-06-06T19:02:35.372721Z",
     "shell.execute_reply": "2022-06-06T19:02:35.371698Z"
    },
    "papermill": {
     "duration": 0.021224,
     "end_time": "2022-06-06T19:02:35.375312",
     "exception": false,
     "start_time": "2022-06-06T19:02:35.354088",
     "status": "completed"
    },
    "tags": []
   },
   "outputs": [
    {
     "name": "stdout",
     "output_type": "stream",
     "text": [
      "abcdef\n",
      "<class 'str'>\n"
     ]
    }
   ],
   "source": [
    "new_string = \"abc\" + \"def\"\n",
    "print(new_string)\n",
    "print(type(new_string))"
   ]
  },
  {
   "cell_type": "markdown",
   "id": "702b725c",
   "metadata": {
    "papermill": {
     "duration": 0.010356,
     "end_time": "2022-06-06T19:02:35.396412",
     "exception": false,
     "start_time": "2022-06-06T19:02:35.386056",
     "status": "completed"
    },
    "tags": []
   },
   "source": [
    "Note that it's not possible to do subtraction or division with two strings.  You also can't multiply two strings, but you can multiply a string by an integer.  This again results in a string that's just the original string concatenated with itself a specified number of times."
   ]
  },
  {
   "cell_type": "code",
   "execution_count": 17,
   "id": "3eaabc77",
   "metadata": {
    "execution": {
     "iopub.execute_input": "2022-06-06T19:02:35.420913Z",
     "iopub.status.busy": "2022-06-06T19:02:35.420451Z",
     "iopub.status.idle": "2022-06-06T19:02:35.425370Z",
     "shell.execute_reply": "2022-06-06T19:02:35.424511Z"
    },
    "papermill": {
     "duration": 0.020352,
     "end_time": "2022-06-06T19:02:35.428134",
     "exception": false,
     "start_time": "2022-06-06T19:02:35.407782",
     "status": "completed"
    },
    "tags": []
   },
   "outputs": [
    {
     "name": "stdout",
     "output_type": "stream",
     "text": [
      "abcabcabc\n",
      "<class 'str'>\n"
     ]
    }
   ],
   "source": [
    "newest_string = \"abc\" * 3\n",
    "print(newest_string)\n",
    "print(type(newest_string))"
   ]
  },
  {
   "cell_type": "markdown",
   "id": "5efd245d",
   "metadata": {
    "papermill": {
     "duration": 0.010425,
     "end_time": "2022-06-06T19:02:35.449608",
     "exception": false,
     "start_time": "2022-06-06T19:02:35.439183",
     "status": "completed"
    },
    "tags": []
   },
   "source": [
    "Note that you cannot multiply a string by a float!  Trying to do so will return an error."
   ]
  },
  {
   "cell_type": "code",
   "execution_count": 18,
   "id": "68a1cbd2",
   "metadata": {
    "execution": {
     "iopub.execute_input": "2022-06-06T19:02:35.473054Z",
     "iopub.status.busy": "2022-06-06T19:02:35.472594Z",
     "iopub.status.idle": "2022-06-06T19:02:35.548811Z",
     "shell.execute_reply": "2022-06-06T19:02:35.547376Z"
    },
    "papermill": {
     "duration": 0.091309,
     "end_time": "2022-06-06T19:02:35.551571",
     "exception": false,
     "start_time": "2022-06-06T19:02:35.460262",
     "status": "completed"
    },
    "tags": []
   },
   "outputs": [
    {
     "ename": "TypeError",
     "evalue": "can't multiply sequence by non-int of type 'float'",
     "output_type": "error",
     "traceback": [
      "\u001b[0;31m---------------------------------------------------------------------------\u001b[0m",
      "\u001b[0;31mTypeError\u001b[0m                                 Traceback (most recent call last)",
      "\u001b[0;32m/tmp/ipykernel_19/2386798361.py\u001b[0m in \u001b[0;36m<module>\u001b[0;34m\u001b[0m\n\u001b[0;32m----> 1\u001b[0;31m \u001b[0mwill_not_work\u001b[0m \u001b[0;34m=\u001b[0m \u001b[0;34m\"abc\"\u001b[0m \u001b[0;34m*\u001b[0m \u001b[0;36m3.\u001b[0m\u001b[0;34m\u001b[0m\u001b[0;34m\u001b[0m\u001b[0m\n\u001b[0m",
      "\u001b[0;31mTypeError\u001b[0m: can't multiply sequence by non-int of type 'float'"
     ]
    }
   ],
   "source": [
    "will_not_work = \"abc\" * 3."
   ]
  },
  {
   "cell_type": "markdown",
   "id": "a5342ee5",
   "metadata": {
    "papermill": {
     "duration": 0.010631,
     "end_time": "2022-06-06T19:02:35.573136",
     "exception": false,
     "start_time": "2022-06-06T19:02:35.562505",
     "status": "completed"
    },
    "tags": []
   },
   "source": [
    "In the error, the \"sequence\" is the string `\"abc\"`, and the \"non-int of type 'float'\" is the float (`3.`).  So, the error message can be reworded to say \"can't multiply string by float\".  \n",
    "\n",
    "# Your turn\n",
    "\n",
    "Write your own code to **[explore different data types](https://www.kaggle.com/kernels/fork/25258226)**."
   ]
  },
  {
   "cell_type": "markdown",
   "id": "caf99040",
   "metadata": {
    "papermill": {
     "duration": 0.010333,
     "end_time": "2022-06-06T19:02:35.594229",
     "exception": false,
     "start_time": "2022-06-06T19:02:35.583896",
     "status": "completed"
    },
    "tags": []
   },
   "source": [
    "---\n",
    "\n",
    "\n",
    "\n",
    "\n",
    "*Have questions or comments? Visit the [course discussion forum](https://www.kaggle.com/learn/intro-to-programming/discussion) to chat with other learners.*"
   ]
  }
 ],
 "metadata": {
  "kernelspec": {
   "display_name": "Python 3",
   "language": "python",
   "name": "python3"
  },
  "language_info": {
   "codemirror_mode": {
    "name": "ipython",
    "version": 3
   },
   "file_extension": ".py",
   "mimetype": "text/x-python",
   "name": "python",
   "nbconvert_exporter": "python",
   "pygments_lexer": "ipython3",
   "version": "3.7.12"
  },
  "papermill": {
   "default_parameters": {},
   "duration": 14.375086,
   "end_time": "2022-06-06T19:02:36.530462",
   "environment_variables": {},
   "exception": null,
   "input_path": "__notebook__.ipynb",
   "output_path": "__notebook__.ipynb",
   "parameters": {},
   "start_time": "2022-06-06T19:02:22.155376",
   "version": "2.3.3"
  }
 },
 "nbformat": 4,
 "nbformat_minor": 5
}
