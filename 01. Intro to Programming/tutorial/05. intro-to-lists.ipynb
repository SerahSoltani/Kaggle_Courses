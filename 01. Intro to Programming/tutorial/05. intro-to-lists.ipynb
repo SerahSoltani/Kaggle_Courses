{
 "cells": [
  {
   "cell_type": "markdown",
   "id": "307deda3",
   "metadata": {
    "papermill": {
     "duration": 0.011374,
     "end_time": "2022-06-06T19:02:41.320180",
     "exception": false,
     "start_time": "2022-06-06T19:02:41.308806",
     "status": "completed"
    },
    "tags": []
   },
   "source": [
    "# Introduction\n",
    "\n",
    "When doing data science, you need a way to organize your data so you can work with it efficiently.  Python has many data structures available for holding your data, such as lists, sets, dictionaries, and tuples.  In this tutorial, you will learn how to work with Python lists.\n",
    "\n",
    "# Motivation\n",
    "\n",
    "In the [Petal to the Metal competition](https://www.kaggle.com/c/tpu-getting-started), your goal is to classify the species of a flower based only on its image.  (This is a common task in computer vision, and it is called image classification.)  Towards this goal, say you organize the names of the flower species in the data.  \n",
    "\n",
    "One way to do this is by organizing the names in a Python string."
   ]
  },
  {
   "cell_type": "code",
   "execution_count": 1,
   "id": "1d2da96f",
   "metadata": {
    "execution": {
     "iopub.execute_input": "2022-06-06T19:02:41.336399Z",
     "iopub.status.busy": "2022-06-06T19:02:41.335518Z",
     "iopub.status.idle": "2022-06-06T19:02:41.347522Z",
     "shell.execute_reply": "2022-06-06T19:02:41.346339Z"
    },
    "papermill": {
     "duration": 0.022509,
     "end_time": "2022-06-06T19:02:41.349918",
     "exception": false,
     "start_time": "2022-06-06T19:02:41.327409",
     "status": "completed"
    },
    "tags": []
   },
   "outputs": [
    {
     "name": "stdout",
     "output_type": "stream",
     "text": [
      "<class 'str'>\n",
      "pink primrose,hard-leaved pocket orchid,canterbury bells,sweet pea,english marigold,tiger lily,moon orchid,bird of paradise,monkshood,globe thistle\n"
     ]
    }
   ],
   "source": [
    "flowers = \"pink primrose,hard-leaved pocket orchid,canterbury bells,sweet pea,english marigold,tiger lily,moon orchid,bird of paradise,monkshood,globe thistle\"\n",
    "\n",
    "print(type(flowers))\n",
    "print(flowers)"
   ]
  },
  {
   "cell_type": "markdown",
   "id": "1882fa62",
   "metadata": {
    "papermill": {
     "duration": 0.006136,
     "end_time": "2022-06-06T19:02:41.362721",
     "exception": false,
     "start_time": "2022-06-06T19:02:41.356585",
     "status": "completed"
    },
    "tags": []
   },
   "source": [
    "Even better is to represent the same data in a Python list.  To create a list, you need to use square brackets (`[`, `]`) and separate each item with a comma.  Every item in the list is a Python string, so each is enclosed in quotation marks."
   ]
  },
  {
   "cell_type": "code",
   "execution_count": 2,
   "id": "1630c6c3",
   "metadata": {
    "execution": {
     "iopub.execute_input": "2022-06-06T19:02:41.378288Z",
     "iopub.status.busy": "2022-06-06T19:02:41.376999Z",
     "iopub.status.idle": "2022-06-06T19:02:41.383986Z",
     "shell.execute_reply": "2022-06-06T19:02:41.382937Z"
    },
    "papermill": {
     "duration": 0.017184,
     "end_time": "2022-06-06T19:02:41.386421",
     "exception": false,
     "start_time": "2022-06-06T19:02:41.369237",
     "status": "completed"
    },
    "tags": []
   },
   "outputs": [
    {
     "name": "stdout",
     "output_type": "stream",
     "text": [
      "<class 'list'>\n",
      "['pink primrose', 'hard-leaved pocket orchid', 'canterbury bells', 'sweet pea', 'english marigold', 'tiger lily', 'moon orchid', 'bird of paradise', 'monkshood', 'globe thistle']\n"
     ]
    }
   ],
   "source": [
    "flowers_list = [\"pink primrose\", \"hard-leaved pocket orchid\", \"canterbury bells\", \"sweet pea\", \"english marigold\", \"tiger lily\", \"moon orchid\", \"bird of paradise\", \"monkshood\", \"globe thistle\"]\n",
    "\n",
    "print(type(flowers_list))\n",
    "print(flowers_list)"
   ]
  },
  {
   "cell_type": "markdown",
   "id": "924d4878",
   "metadata": {
    "papermill": {
     "duration": 0.007362,
     "end_time": "2022-06-06T19:02:41.401266",
     "exception": false,
     "start_time": "2022-06-06T19:02:41.393904",
     "status": "completed"
    },
    "tags": []
   },
   "source": [
    "At first glance, it doesn't look too different, whether you represent the information in a Python string or list.  But as you will see, there are a lot of tasks that you can more easily do with a list.  For instance, a list will make it easier to:\n",
    "- get an item at a specified position (first, second, third, etc), \n",
    "- check the number of items, and\n",
    "- add and remove items.\n",
    "\n",
    "# Lists\n",
    "\n",
    "## Length\n",
    "\n",
    "We can count the number of entries in any list with `len()`, which is short for \"length\".  You need only supply the name of the list in the parentheses."
   ]
  },
  {
   "cell_type": "code",
   "execution_count": 3,
   "id": "fbad2f78",
   "metadata": {
    "execution": {
     "iopub.execute_input": "2022-06-06T19:02:41.417637Z",
     "iopub.status.busy": "2022-06-06T19:02:41.416748Z",
     "iopub.status.idle": "2022-06-06T19:02:41.421693Z",
     "shell.execute_reply": "2022-06-06T19:02:41.420847Z"
    },
    "papermill": {
     "duration": 0.014942,
     "end_time": "2022-06-06T19:02:41.423660",
     "exception": false,
     "start_time": "2022-06-06T19:02:41.408718",
     "status": "completed"
    },
    "tags": []
   },
   "outputs": [
    {
     "name": "stdout",
     "output_type": "stream",
     "text": [
      "10\n"
     ]
    }
   ],
   "source": [
    "# The list has ten entries\n",
    "print(len(flowers_list))"
   ]
  },
  {
   "cell_type": "markdown",
   "id": "ce351269",
   "metadata": {
    "papermill": {
     "duration": 0.007193,
     "end_time": "2022-06-06T19:02:41.438087",
     "exception": false,
     "start_time": "2022-06-06T19:02:41.430894",
     "status": "completed"
    },
    "tags": []
   },
   "source": [
    "## Indexing\n",
    "\n",
    "We can refer to any item in the list according to its position in the list (first, second, third, etc).  This is called **indexing**.\n",
    "\n",
    "Note that Python uses zero-based indexing, which means that:\n",
    "- to pull the first entry in the list, you use 0,\n",
    "- to pull the second entry in the list, you use 1, and\n",
    "- to pull the final entry in the list, you use one less than the length of the list."
   ]
  },
  {
   "cell_type": "code",
   "execution_count": 4,
   "id": "4309a4fd",
   "metadata": {
    "execution": {
     "iopub.execute_input": "2022-06-06T19:02:41.454593Z",
     "iopub.status.busy": "2022-06-06T19:02:41.454146Z",
     "iopub.status.idle": "2022-06-06T19:02:41.459939Z",
     "shell.execute_reply": "2022-06-06T19:02:41.458970Z"
    },
    "papermill": {
     "duration": 0.016765,
     "end_time": "2022-06-06T19:02:41.462018",
     "exception": false,
     "start_time": "2022-06-06T19:02:41.445253",
     "status": "completed"
    },
    "tags": []
   },
   "outputs": [
    {
     "name": "stdout",
     "output_type": "stream",
     "text": [
      "First entry: pink primrose\n",
      "Second entry: hard-leaved pocket orchid\n",
      "Last entry: globe thistle\n"
     ]
    }
   ],
   "source": [
    "print(\"First entry:\", flowers_list[0])\n",
    "print(\"Second entry:\", flowers_list[1])\n",
    "\n",
    "# The list has length ten, so we refer to final entry with 9\n",
    "print(\"Last entry:\", flowers_list[9])"
   ]
  },
  {
   "cell_type": "markdown",
   "id": "34fbdf47",
   "metadata": {
    "papermill": {
     "duration": 0.007048,
     "end_time": "2022-06-06T19:02:41.476750",
     "exception": false,
     "start_time": "2022-06-06T19:02:41.469702",
     "status": "completed"
    },
    "tags": []
   },
   "source": [
    "**Side Note**: You may have noticed that in the code cell above, we use a single `print()` to print multiple items (both a Python string (like `\"First entry:\"`) and a value from the list (like `flowers_list[0]`).  To print multiple things in Python with a single command, we need only separate them with a comma.\n",
    "\n",
    "## Slicing\n",
    "\n",
    "You can also pull a segment of a list (for instance, the first three entries or the last two entries).  This is called **slicing**.  For instance:\n",
    "- to pull the first `x` entries, you use `[:x]`, and\n",
    "- to pull the last `y` entries, you use `[-y:]`."
   ]
  },
  {
   "cell_type": "code",
   "execution_count": 5,
   "id": "33a30756",
   "metadata": {
    "execution": {
     "iopub.execute_input": "2022-06-06T19:02:41.493161Z",
     "iopub.status.busy": "2022-06-06T19:02:41.492388Z",
     "iopub.status.idle": "2022-06-06T19:02:41.497992Z",
     "shell.execute_reply": "2022-06-06T19:02:41.496977Z"
    },
    "papermill": {
     "duration": 0.016594,
     "end_time": "2022-06-06T19:02:41.500177",
     "exception": false,
     "start_time": "2022-06-06T19:02:41.483583",
     "status": "completed"
    },
    "tags": []
   },
   "outputs": [
    {
     "name": "stdout",
     "output_type": "stream",
     "text": [
      "First three entries: ['pink primrose', 'hard-leaved pocket orchid', 'canterbury bells']\n",
      "Final two entries: ['monkshood', 'globe thistle']\n"
     ]
    }
   ],
   "source": [
    "print(\"First three entries:\", flowers_list[:3])\n",
    "print(\"Final two entries:\", flowers_list[-2:])"
   ]
  },
  {
   "cell_type": "markdown",
   "id": "d91fedb1",
   "metadata": {
    "papermill": {
     "duration": 0.00685,
     "end_time": "2022-06-06T19:02:41.514299",
     "exception": false,
     "start_time": "2022-06-06T19:02:41.507449",
     "status": "completed"
    },
    "tags": []
   },
   "source": [
    "As you can see above, when we slice a list, it returns a new, shortened list.\n",
    "\n",
    "\n",
    "## Removing items\n",
    "\n",
    "Remove an item from a list with `.remove()`, and put the item you would like to remove in parentheses."
   ]
  },
  {
   "cell_type": "code",
   "execution_count": 6,
   "id": "b919fe60",
   "metadata": {
    "execution": {
     "iopub.execute_input": "2022-06-06T19:02:41.531972Z",
     "iopub.status.busy": "2022-06-06T19:02:41.531313Z",
     "iopub.status.idle": "2022-06-06T19:02:41.536850Z",
     "shell.execute_reply": "2022-06-06T19:02:41.535570Z"
    },
    "papermill": {
     "duration": 0.017303,
     "end_time": "2022-06-06T19:02:41.539153",
     "exception": false,
     "start_time": "2022-06-06T19:02:41.521850",
     "status": "completed"
    },
    "tags": []
   },
   "outputs": [
    {
     "name": "stdout",
     "output_type": "stream",
     "text": [
      "['pink primrose', 'hard-leaved pocket orchid', 'canterbury bells', 'sweet pea', 'english marigold', 'tiger lily', 'moon orchid', 'bird of paradise', 'monkshood']\n"
     ]
    }
   ],
   "source": [
    "flowers_list.remove(\"globe thistle\")\n",
    "print(flowers_list)"
   ]
  },
  {
   "cell_type": "markdown",
   "id": "e5ecb794",
   "metadata": {
    "papermill": {
     "duration": 0.006924,
     "end_time": "2022-06-06T19:02:41.553317",
     "exception": false,
     "start_time": "2022-06-06T19:02:41.546393",
     "status": "completed"
    },
    "tags": []
   },
   "source": [
    "## Adding items\n",
    "\n",
    "Add an item to a list with `.append()`, and put the item you would like to add in parentheses."
   ]
  },
  {
   "cell_type": "code",
   "execution_count": 7,
   "id": "a56c87fe",
   "metadata": {
    "execution": {
     "iopub.execute_input": "2022-06-06T19:02:41.569693Z",
     "iopub.status.busy": "2022-06-06T19:02:41.568817Z",
     "iopub.status.idle": "2022-06-06T19:02:41.574032Z",
     "shell.execute_reply": "2022-06-06T19:02:41.573012Z"
    },
    "papermill": {
     "duration": 0.015552,
     "end_time": "2022-06-06T19:02:41.576069",
     "exception": false,
     "start_time": "2022-06-06T19:02:41.560517",
     "status": "completed"
    },
    "tags": []
   },
   "outputs": [
    {
     "name": "stdout",
     "output_type": "stream",
     "text": [
      "['pink primrose', 'hard-leaved pocket orchid', 'canterbury bells', 'sweet pea', 'english marigold', 'tiger lily', 'moon orchid', 'bird of paradise', 'monkshood', 'snapdragon']\n"
     ]
    }
   ],
   "source": [
    "flowers_list.append(\"snapdragon\")\n",
    "print(flowers_list)"
   ]
  },
  {
   "cell_type": "markdown",
   "id": "77744381",
   "metadata": {
    "papermill": {
     "duration": 0.006939,
     "end_time": "2022-06-06T19:02:41.590724",
     "exception": false,
     "start_time": "2022-06-06T19:02:41.583785",
     "status": "completed"
    },
    "tags": []
   },
   "source": [
    "## Lists are not just for strings\n",
    "\n",
    "So far, we have only worked with lists where each item in the list is a string.  But lists can have items with any data type, including booleans, integers, and floats.\n",
    "\n",
    "As an example, consider hardcover book sales in the first week of April 2000 in a retail store."
   ]
  },
  {
   "cell_type": "code",
   "execution_count": 8,
   "id": "8763f4f1",
   "metadata": {
    "execution": {
     "iopub.execute_input": "2022-06-06T19:02:41.607408Z",
     "iopub.status.busy": "2022-06-06T19:02:41.606787Z",
     "iopub.status.idle": "2022-06-06T19:02:41.611610Z",
     "shell.execute_reply": "2022-06-06T19:02:41.610653Z"
    },
    "papermill": {
     "duration": 0.015818,
     "end_time": "2022-06-06T19:02:41.613847",
     "exception": false,
     "start_time": "2022-06-06T19:02:41.598029",
     "status": "completed"
    },
    "tags": []
   },
   "outputs": [],
   "source": [
    "hardcover_sales = [139, 128, 172, 139, 191, 168, 170]"
   ]
  },
  {
   "cell_type": "markdown",
   "id": "818bf9c8",
   "metadata": {
    "papermill": {
     "duration": 0.007318,
     "end_time": "2022-06-06T19:02:41.628944",
     "exception": false,
     "start_time": "2022-06-06T19:02:41.621626",
     "status": "completed"
    },
    "tags": []
   },
   "source": [
    "Here, `hardcover_sales` is a list of integers.  Similar to when working with strings, you can still do things like get the length, pull individual entries, and extend the list."
   ]
  },
  {
   "cell_type": "code",
   "execution_count": 9,
   "id": "934e840a",
   "metadata": {
    "execution": {
     "iopub.execute_input": "2022-06-06T19:02:41.646363Z",
     "iopub.status.busy": "2022-06-06T19:02:41.645628Z",
     "iopub.status.idle": "2022-06-06T19:02:41.650567Z",
     "shell.execute_reply": "2022-06-06T19:02:41.649889Z"
    },
    "papermill": {
     "duration": 0.016384,
     "end_time": "2022-06-06T19:02:41.652920",
     "exception": false,
     "start_time": "2022-06-06T19:02:41.636536",
     "status": "completed"
    },
    "tags": []
   },
   "outputs": [
    {
     "name": "stdout",
     "output_type": "stream",
     "text": [
      "Length of the list: 7\n",
      "Entry at index 2: 172\n"
     ]
    }
   ],
   "source": [
    "print(\"Length of the list:\", len(hardcover_sales))\n",
    "print(\"Entry at index 2:\", hardcover_sales[2])"
   ]
  },
  {
   "cell_type": "markdown",
   "id": "9397f051",
   "metadata": {
    "papermill": {
     "duration": 0.007382,
     "end_time": "2022-06-06T19:02:41.667730",
     "exception": false,
     "start_time": "2022-06-06T19:02:41.660348",
     "status": "completed"
    },
    "tags": []
   },
   "source": [
    "You can also get the minimum with `min()` and the maximum with `max()`."
   ]
  },
  {
   "cell_type": "code",
   "execution_count": 10,
   "id": "e3a99a99",
   "metadata": {
    "execution": {
     "iopub.execute_input": "2022-06-06T19:02:41.685753Z",
     "iopub.status.busy": "2022-06-06T19:02:41.684863Z",
     "iopub.status.idle": "2022-06-06T19:02:41.690792Z",
     "shell.execute_reply": "2022-06-06T19:02:41.689631Z"
    },
    "papermill": {
     "duration": 0.017681,
     "end_time": "2022-06-06T19:02:41.693320",
     "exception": false,
     "start_time": "2022-06-06T19:02:41.675639",
     "status": "completed"
    },
    "tags": []
   },
   "outputs": [
    {
     "name": "stdout",
     "output_type": "stream",
     "text": [
      "Minimum: 128\n",
      "Maximum: 191\n"
     ]
    }
   ],
   "source": [
    "print(\"Minimum:\", min(hardcover_sales))\n",
    "print(\"Maximum:\", max(hardcover_sales))"
   ]
  },
  {
   "cell_type": "markdown",
   "id": "392f3c68",
   "metadata": {
    "papermill": {
     "duration": 0.007163,
     "end_time": "2022-06-06T19:02:41.708186",
     "exception": false,
     "start_time": "2022-06-06T19:02:41.701023",
     "status": "completed"
    },
    "tags": []
   },
   "source": [
    "To add every item in the list, use `sum()`."
   ]
  },
  {
   "cell_type": "code",
   "execution_count": 11,
   "id": "78cfd6a5",
   "metadata": {
    "execution": {
     "iopub.execute_input": "2022-06-06T19:02:41.724880Z",
     "iopub.status.busy": "2022-06-06T19:02:41.724268Z",
     "iopub.status.idle": "2022-06-06T19:02:41.730104Z",
     "shell.execute_reply": "2022-06-06T19:02:41.729153Z"
    },
    "papermill": {
     "duration": 0.016323,
     "end_time": "2022-06-06T19:02:41.732175",
     "exception": false,
     "start_time": "2022-06-06T19:02:41.715852",
     "status": "completed"
    },
    "tags": []
   },
   "outputs": [
    {
     "name": "stdout",
     "output_type": "stream",
     "text": [
      "Total books sold in one week: 1107\n"
     ]
    }
   ],
   "source": [
    "print(\"Total books sold in one week:\", sum(hardcover_sales))"
   ]
  },
  {
   "cell_type": "markdown",
   "id": "b5dd5a66",
   "metadata": {
    "papermill": {
     "duration": 0.007568,
     "end_time": "2022-06-06T19:02:41.747431",
     "exception": false,
     "start_time": "2022-06-06T19:02:41.739863",
     "status": "completed"
    },
    "tags": []
   },
   "source": [
    "We can also do similar calculations with slices of the list.  In the next code cell, we take the sum from the first five days (`sum(hardcover_sales[:5])`), and then divide by five to get the average number of books sold in the first five days."
   ]
  },
  {
   "cell_type": "code",
   "execution_count": 12,
   "id": "196bc743",
   "metadata": {
    "execution": {
     "iopub.execute_input": "2022-06-06T19:02:41.764100Z",
     "iopub.status.busy": "2022-06-06T19:02:41.763352Z",
     "iopub.status.idle": "2022-06-06T19:02:41.769860Z",
     "shell.execute_reply": "2022-06-06T19:02:41.768537Z"
    },
    "papermill": {
     "duration": 0.017434,
     "end_time": "2022-06-06T19:02:41.772316",
     "exception": false,
     "start_time": "2022-06-06T19:02:41.754882",
     "status": "completed"
    },
    "tags": []
   },
   "outputs": [
    {
     "name": "stdout",
     "output_type": "stream",
     "text": [
      "Average books sold in first five days: 153.8\n"
     ]
    }
   ],
   "source": [
    "print(\"Average books sold in first five days:\", sum(hardcover_sales[:5])/5)"
   ]
  },
  {
   "cell_type": "markdown",
   "id": "c5969566",
   "metadata": {
    "papermill": {
     "duration": 0.007456,
     "end_time": "2022-06-06T19:02:41.787655",
     "exception": false,
     "start_time": "2022-06-06T19:02:41.780199",
     "status": "completed"
    },
    "tags": []
   },
   "source": [
    "# Your turn\n",
    "\n",
    "Now it's your turn to **[practice creating and modifying lists](https://www.kaggle.com/kernels/fork/26034864)**."
   ]
  },
  {
   "cell_type": "markdown",
   "id": "c47603ab",
   "metadata": {
    "papermill": {
     "duration": 0.007556,
     "end_time": "2022-06-06T19:02:41.803086",
     "exception": false,
     "start_time": "2022-06-06T19:02:41.795530",
     "status": "completed"
    },
    "tags": []
   },
   "source": [
    "---\n",
    "\n",
    "\n",
    "\n",
    "\n",
    "*Have questions or comments? Visit the [course discussion forum](https://www.kaggle.com/learn/intro-to-programming/discussion) to chat with other learners.*"
   ]
  }
 ],
 "metadata": {
  "kernelspec": {
   "display_name": "Python 3",
   "language": "python",
   "name": "python3"
  },
  "language_info": {
   "codemirror_mode": {
    "name": "ipython",
    "version": 3
   },
   "file_extension": ".py",
   "mimetype": "text/x-python",
   "name": "python",
   "nbconvert_exporter": "python",
   "pygments_lexer": "ipython3",
   "version": "3.7.12"
  },
  "papermill": {
   "default_parameters": {},
   "duration": 12.047339,
   "end_time": "2022-06-06T19:02:42.533386",
   "environment_variables": {},
   "exception": null,
   "input_path": "__notebook__.ipynb",
   "output_path": "__notebook__.ipynb",
   "parameters": {},
   "start_time": "2022-06-06T19:02:30.486047",
   "version": "2.3.4"
  }
 },
 "nbformat": 4,
 "nbformat_minor": 5
}
