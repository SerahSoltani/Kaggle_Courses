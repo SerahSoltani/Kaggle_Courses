{
 "cells": [
  {
   "cell_type": "markdown",
   "id": "adfe1693",
   "metadata": {
    "papermill": {
     "duration": 0.008016,
     "end_time": "2021-12-14T19:19:12.995538",
     "exception": false,
     "start_time": "2021-12-14T19:19:12.987522",
     "status": "completed"
    },
    "tags": []
   },
   "source": [
    "In this notebook, we're going to be looking at how to scale and normalize data (and what the difference is between the two!). \n",
    "\n",
    "Let's get started!"
   ]
  },
  {
   "cell_type": "markdown",
   "id": "a55b78b1",
   "metadata": {
    "papermill": {
     "duration": 0.006547,
     "end_time": "2021-12-14T19:19:13.009570",
     "exception": false,
     "start_time": "2021-12-14T19:19:13.003023",
     "status": "completed"
    },
    "tags": []
   },
   "source": [
    "# Get our environment set up\n",
    "\n",
    "The first thing we'll need to do is load in the libraries we'll be using. "
   ]
  },
  {
   "cell_type": "code",
   "execution_count": 1,
   "id": "ec80c8bf",
   "metadata": {
    "execution": {
     "iopub.execute_input": "2021-12-14T19:19:13.033078Z",
     "iopub.status.busy": "2021-12-14T19:19:13.032430Z",
     "iopub.status.idle": "2021-12-14T19:19:14.179727Z",
     "shell.execute_reply": "2021-12-14T19:19:14.178993Z",
     "shell.execute_reply.started": "2021-12-14T19:07:29.644088Z"
    },
    "papermill": {
     "duration": 1.163605,
     "end_time": "2021-12-14T19:19:14.179938",
     "exception": false,
     "start_time": "2021-12-14T19:19:13.016333",
     "status": "completed"
    },
    "tags": []
   },
   "outputs": [],
   "source": [
    "# modules we'll use\n",
    "import pandas as pd\n",
    "import numpy as np\n",
    "\n",
    "# for Box-Cox Transformation\n",
    "from scipy import stats\n",
    "\n",
    "# for min_max scaling\n",
    "from mlxtend.preprocessing import minmax_scaling\n",
    "\n",
    "# plotting modules\n",
    "import seaborn as sns\n",
    "import matplotlib.pyplot as plt\n",
    "\n",
    "# set seed for reproducibility\n",
    "np.random.seed(0)"
   ]
  },
  {
   "cell_type": "markdown",
   "id": "93681bad",
   "metadata": {
    "papermill": {
     "duration": 0.006715,
     "end_time": "2021-12-14T19:19:14.193747",
     "exception": false,
     "start_time": "2021-12-14T19:19:14.187032",
     "status": "completed"
    },
    "tags": []
   },
   "source": [
    "# Scaling vs. Normalization: What's the difference?\n",
    "\n",
    "One of the reasons that it's easy to get confused between scaling and normalization is because the terms are sometimes used interchangeably and, to make it even more confusing, they are very similar! In both cases, you're transforming the values of numeric variables so that the transformed data points have specific helpful properties. The difference is that:\n",
    "- in **scaling**, you're changing the *range* of your data, while \n",
    "- in **normalization**, you're changing the *shape of the distribution* of your data. \n",
    "\n",
    "Let's talk a little more in-depth about each of these options. \n",
    "\n",
    "# Scaling\n",
    "\n",
    "This means that you're transforming your data so that it fits within a specific scale, like 0-100 or 0-1.  You want to scale data when you're using methods based on measures of how far apart data points are, like [support vector machines (SVM)](https://en.wikipedia.org/wiki/Support_vector_machine) or [k-nearest neighbors (KNN)](https://en.wikipedia.org/wiki/K-nearest_neighbors_algorithm). With these algorithms, a change of \"1\" in any numeric feature is given the same importance. \n",
    "\n",
    "For example, you might be looking at the prices of some products in both Yen and US Dollars. One US Dollar is worth about 100 Yen, but if you don't scale your prices, methods like SVM or KNN will consider a difference in price of 1 Yen as important as a difference of 1 US Dollar! This clearly doesn't fit with our intuitions of the world. With currency, you can convert between currencies. But what about if you're looking at something like height and weight? It's not entirely clear how many pounds should equal one inch (or how many kilograms should equal one meter).\n",
    "\n",
    "By scaling your variables, you can help compare different variables on equal footing. To help solidify what scaling looks like, let's look at a made-up example. (Don't worry, we'll work with real data in [**the following exercise**](https://www.kaggle.com/kernels/fork/10824404)!)"
   ]
  },
  {
   "cell_type": "code",
   "execution_count": 2,
   "id": "7150baa1",
   "metadata": {
    "execution": {
     "iopub.execute_input": "2021-12-14T19:19:14.211471Z",
     "iopub.status.busy": "2021-12-14T19:19:14.210758Z",
     "iopub.status.idle": "2021-12-14T19:19:14.785409Z",
     "shell.execute_reply": "2021-12-14T19:19:14.785976Z",
     "shell.execute_reply.started": "2021-12-14T19:18:40.904322Z"
    },
    "papermill": {
     "duration": 0.585403,
     "end_time": "2021-12-14T19:19:14.786196",
     "exception": false,
     "start_time": "2021-12-14T19:19:14.200793",
     "status": "completed"
    },
    "tags": []
   },
   "outputs": [
    {
     "data": {
      "image/png": "[encoded data removed]",
      "text/plain": [
       "<Figure size 1080x216 with 2 Axes>"
      ]
     },
     "metadata": {
      "needs_background": "light"
     },
     "output_type": "display_data"
    }
   ],
   "source": [
    "# generate 1000 data points randomly drawn from an exponential distribution\n",
    "original_data = np.random.exponential(size=1000)\n",
    "\n",
    "# mix-max scale the data between 0 and 1\n",
    "scaled_data = minmax_scaling(original_data, columns=[0])\n",
    "\n",
    "# plot both together to compare\n",
    "fig, ax = plt.subplots(1, 2, figsize=(15, 3))\n",
    "sns.histplot(original_data, ax=ax[0], kde=True, legend=False)\n",
    "ax[0].set_title(\"Original Data\")\n",
    "sns.histplot(scaled_data, ax=ax[1], kde=True, legend=False)\n",
    "ax[1].set_title(\"Scaled data\")\n",
    "plt.show()"
   ]
  },
  {
   "cell_type": "markdown",
   "id": "0054db36",
   "metadata": {
    "papermill": {
     "duration": 0.007736,
     "end_time": "2021-12-14T19:19:14.802360",
     "exception": false,
     "start_time": "2021-12-14T19:19:14.794624",
     "status": "completed"
    },
    "tags": []
   },
   "source": [
    "Notice that the *shape* of the data doesn't change, but that instead of ranging from 0 to 8ish, it now ranges from 0 to 1.\n",
    "\n",
    "# Normalization\n",
    "\n",
    "Scaling just changes the range of your data. Normalization is a more radical transformation. The point of normalization is to change your observations so that they can be described as a normal distribution.\n",
    "\n",
    "> **[Normal distribution:](https://en.wikipedia.org/wiki/Normal_distribution)** Also known as the \"bell curve\", this is a specific statistical distribution where a roughly equal observations fall above and below the mean, the mean and the median are the same, and there are more observations closer to the mean. The normal distribution is also known as the Gaussian distribution.\n",
    "\n",
    "In general, you'll normalize your data if you're going to be using a machine learning or statistics technique that assumes your data is normally distributed. Some examples of these include linear discriminant analysis (LDA) and Gaussian naive Bayes. (Pro tip: any method with \"Gaussian\" in the name probably assumes normality.)\n",
    "\n",
    "The method we're using to normalize here is called the [Box-Cox Transformation](https://en.wikipedia.org/wiki/Power_transform#Box%E2%80%93Cox_transformation). Let's take a quick peek at what normalizing some data looks like:"
   ]
  },
  {
   "cell_type": "code",
   "execution_count": 3,
   "id": "73ac4e81",
   "metadata": {
    "execution": {
     "iopub.execute_input": "2021-12-14T19:19:14.826215Z",
     "iopub.status.busy": "2021-12-14T19:19:14.825434Z",
     "iopub.status.idle": "2021-12-14T19:19:15.283898Z",
     "shell.execute_reply": "2021-12-14T19:19:15.284542Z",
     "shell.execute_reply.started": "2021-12-14T19:18:31.226793Z"
    },
    "papermill": {
     "duration": 0.47424,
     "end_time": "2021-12-14T19:19:15.284768",
     "exception": false,
     "start_time": "2021-12-14T19:19:14.810528",
     "status": "completed"
    },
    "scrolled": true,
    "tags": []
   },
   "outputs": [
    {
     "data": {
      "image/png": "[encoded data removed]",
      "text/plain": [
       "<Figure size 1080x216 with 2 Axes>"
      ]
     },
     "metadata": {
      "needs_background": "light"
     },
     "output_type": "display_data"
    }
   ],
   "source": [
    "# normalize the exponential data with boxcox\n",
    "normalized_data = stats.boxcox(original_data)\n",
    "\n",
    "# plot both together to compare\n",
    "fig, ax=plt.subplots(1, 2, figsize=(15, 3))\n",
    "sns.histplot(original_data, ax=ax[0], kde=True, legend=False)\n",
    "ax[0].set_title(\"Original Data\")\n",
    "sns.histplot(normalized_data[0], ax=ax[1], kde=True, legend=False)\n",
    "ax[1].set_title(\"Normalized data\")\n",
    "plt.show()"
   ]
  },
  {
   "cell_type": "markdown",
   "id": "e99c534e",
   "metadata": {
    "papermill": {
     "duration": 0.008822,
     "end_time": "2021-12-14T19:19:15.304747",
     "exception": false,
     "start_time": "2021-12-14T19:19:15.295925",
     "status": "completed"
    },
    "tags": []
   },
   "source": [
    "Notice that the *shape* of our data has changed. Before normalizing it was almost L-shaped. But after normalizing it looks more like the outline of a bell (hence \"bell curve\"). \n",
    "\n",
    "# Your turn\n",
    "\n",
    "It's time to [**apply what you just learned**](https://www.kaggle.com/kernels/fork/10824404) a dataset of Kickstarter projects."
   ]
  },
  {
   "cell_type": "markdown",
   "id": "974f3053",
   "metadata": {
    "papermill": {
     "duration": 0.008908,
     "end_time": "2021-12-14T19:19:15.323034",
     "exception": false,
     "start_time": "2021-12-14T19:19:15.314126",
     "status": "completed"
    },
    "tags": []
   },
   "source": [
    "---\n",
    "\n",
    "\n",
    "\n",
    "\n",
    "*Have questions or comments? Visit the [course discussion forum](https://www.kaggle.com/learn/data-cleaning/discussion) to chat with other learners.*"
   ]
  }
 ],
 "metadata": {
  "kernelspec": {
   "display_name": "Python 3",
   "language": "python",
   "name": "python3"
  },
  "language_info": {
   "codemirror_mode": {
    "name": "ipython",
    "version": 3
   },
   "file_extension": ".py",
   "mimetype": "text/x-python",
   "name": "python",
   "nbconvert_exporter": "python",
   "pygments_lexer": "ipython3",
   "version": "3.7.12"
  },
  "papermill": {
   "default_parameters": {},
   "duration": 13.165459,
   "end_time": "2021-12-14T19:19:16.044727",
   "environment_variables": {},
   "exception": null,
   "input_path": "__notebook__.ipynb",
   "output_path": "__notebook__.ipynb",
   "parameters": {},
   "start_time": "2021-12-14T19:19:02.879268",
   "version": "2.3.3"
  }
 },
 "nbformat": 4,
 "nbformat_minor": 5
}
