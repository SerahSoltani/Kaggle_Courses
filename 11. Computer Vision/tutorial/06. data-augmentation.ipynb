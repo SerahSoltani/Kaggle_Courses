{
 "cells": [
  {
   "cell_type": "markdown",
   "id": "e1f47462",
   "metadata": {
    "papermill": {
     "duration": 0.009014,
     "end_time": "2022-05-05T17:54:01.467868",
     "exception": false,
     "start_time": "2022-05-05T17:54:01.458854",
     "status": "completed"
    },
    "tags": []
   },
   "source": [
    "<!--TITLE:Data Augmentation-->\n",
    "\n",
    "# Introduction #\n",
    "\n",
    "Now that you've learned the fundamentals of convolutional classifiers, you're ready to move on to more advanced topics.\n",
    "\n",
    "In this lesson, you'll learn a trick that can give a boost to your image classifiers: it's called **data augmentation**. "
   ]
  },
  {
   "cell_type": "markdown",
   "id": "9a8b1806",
   "metadata": {
    "papermill": {
     "duration": 0.00746,
     "end_time": "2022-05-05T17:54:01.483320",
     "exception": false,
     "start_time": "2022-05-05T17:54:01.475860",
     "status": "completed"
    },
    "tags": []
   },
   "source": [
    "# The Usefulness of Fake Data #\n",
    "\n",
    "The best way to improve the performance of a machine learning model is to train it on more data. The more examples the model has to learn from, the better it will be able to recognize which differences in images matter and which do not. More data helps the model to *generalize* better.\n",
    "\n",
    "One easy way of getting more data is to use the data you already have. If we can transform the images in our dataset in ways that preserve the class, we can teach our classifier to ignore those kinds of transformations. For instance, whether a car is facing left or right in a photo doesn't change the fact that it is a *Car* and not a *Truck*. So, if we **augment** our training data with flipped images, our classifier will learn that \"left or right\" is a difference it should ignore.\n",
    "\n",
    "And that's the whole idea behind data augmentation: add in some extra fake data that looks reasonably like the real data and your classifier will improve.\n",
    "\n",
    "# Using Data Augmentation #\n",
    "\n",
    "Typically, many kinds of transformation are used when augmenting a dataset. These might include rotating the image, adjusting the color or contrast, warping the image, or many other things, usually applied in combination. Here is a sample of the different ways a single image might be transformed.\n",
    "\n",
    "<figure>\n",
    "<img src=\"https://i.imgur.com/UaOm0ms.png\" width=400, alt=\"Sixteen transformations of a single image of a car.\">\n",
    "</figure>\n",
    "\n",
    "Data augmentation is usually done *online*, meaning, as the images are being fed into the network for training. Recall that training is usually done on mini-batches of data. This is what a batch of 16 images might look like when data augmentation is used.\n",
    "\n",
    "<figure>\n",
    "<img src=\"https://i.imgur.com/MFviYoE.png\" width=400, alt=\"A batch of 16 images with various random transformations applied.\">\n",
    "</figure>\n",
    "\n",
    "Each time an image is used during training, a new random transformation is applied. This way, the model is always seeing something a little different than what it's seen before. This extra variance in the training data is what helps the model on new data.\n",
    "\n",
    "It's important to remember though that not every transformation will be useful on a given problem. Most importantly, whatever transformations you use should not mix up the classes. If you were training a [digit recognizer](https://www.kaggle.com/c/digit-recognizer), for instance, rotating images would mix up '9's and '6's. In the end, the best approach for finding good augmentations is the same as with most ML problems: try it and see!\n",
    "\n",
    "# Example - Training with Data Augmentation #\n",
    "\n",
    "Keras lets you augment your data in two ways. The first way is to include it in the data pipeline with a function like [`ImageDataGenerator`](https://www.tensorflow.org/api_docs/python/tf/keras/preprocessing/image/ImageDataGenerator). The second way is to include it in the model definition by using Keras's **preprocessing layers**. This is the approach that we'll take. The primary advantage for us is that the image transformations will be computed on the GPU instead of the CPU, potentially speeding up training.\n",
    "\n",
    "In this exercise, we'll learn how to improve the classifier from Lesson 1 through data augmentation. This next hidden cell sets up the data pipeline."
   ]
  },
  {
   "cell_type": "code",
   "execution_count": 1,
   "id": "923931c8",
   "metadata": {
    "_kg_hide-input": true,
    "execution": {
     "iopub.execute_input": "2022-05-05T17:54:01.500517Z",
     "iopub.status.busy": "2022-05-05T17:54:01.500133Z",
     "iopub.status.idle": "2022-05-05T17:54:11.907662Z",
     "shell.execute_reply": "2022-05-05T17:54:11.906828Z"
    },
    "papermill": {
     "duration": 10.419516,
     "end_time": "2022-05-05T17:54:11.910477",
     "exception": false,
     "start_time": "2022-05-05T17:54:01.490961",
     "status": "completed"
    },
    "tags": []
   },
   "outputs": [
    {
     "name": "stdout",
     "output_type": "stream",
     "text": [
      "Found 5117 files belonging to 2 classes.\n"
     ]
    },
    {
     "name": "stderr",
     "output_type": "stream",
     "text": [
      "2022-05-05 17:54:08.144089: I tensorflow/stream_executor/cuda/cuda_gpu_executor.cc:937] successful NUMA node read from SysFS had negative value (-1), but there must be at least one NUMA node, so returning NUMA node zero\n",
      "2022-05-05 17:54:08.239777: I tensorflow/stream_executor/cuda/cuda_gpu_executor.cc:937] successful NUMA node read from SysFS had negative value (-1), but there must be at least one NUMA node, so returning NUMA node zero\n",
      "2022-05-05 17:54:08.240584: I tensorflow/stream_executor/cuda/cuda_gpu_executor.cc:937] successful NUMA node read from SysFS had negative value (-1), but there must be at least one NUMA node, so returning NUMA node zero\n",
      "2022-05-05 17:54:08.248366: I tensorflow/core/platform/cpu_feature_guard.cc:142] This TensorFlow binary is optimized with oneAPI Deep Neural Network Library (oneDNN) to use the following CPU instructions in performance-critical operations:  AVX2 AVX512F FMA\n",
      "To enable them in other operations, rebuild TensorFlow with the appropriate compiler flags.\n",
      "2022-05-05 17:54:08.248634: I tensorflow/stream_executor/cuda/cuda_gpu_executor.cc:937] successful NUMA node read from SysFS had negative value (-1), but there must be at least one NUMA node, so returning NUMA node zero\n",
      "2022-05-05 17:54:08.249309: I tensorflow/stream_executor/cuda/cuda_gpu_executor.cc:937] successful NUMA node read from SysFS had negative value (-1), but there must be at least one NUMA node, so returning NUMA node zero\n",
      "2022-05-05 17:54:08.249919: I tensorflow/stream_executor/cuda/cuda_gpu_executor.cc:937] successful NUMA node read from SysFS had negative value (-1), but there must be at least one NUMA node, so returning NUMA node zero\n",
      "2022-05-05 17:54:09.911851: I tensorflow/stream_executor/cuda/cuda_gpu_executor.cc:937] successful NUMA node read from SysFS had negative value (-1), but there must be at least one NUMA node, so returning NUMA node zero\n",
      "2022-05-05 17:54:09.912733: I tensorflow/stream_executor/cuda/cuda_gpu_executor.cc:937] successful NUMA node read from SysFS had negative value (-1), but there must be at least one NUMA node, so returning NUMA node zero\n",
      "2022-05-05 17:54:09.913437: I tensorflow/stream_executor/cuda/cuda_gpu_executor.cc:937] successful NUMA node read from SysFS had negative value (-1), but there must be at least one NUMA node, so returning NUMA node zero\n",
      "2022-05-05 17:54:09.914931: I tensorflow/core/common_runtime/gpu/gpu_device.cc:1510] Created device /job:localhost/replica:0/task:0/device:GPU:0 with 15403 MB memory:  -> device: 0, name: Tesla P100-PCIE-16GB, pci bus id: 0000:00:04.0, compute capability: 6.0\n"
     ]
    },
    {
     "name": "stdout",
     "output_type": "stream",
     "text": [
      "Found 5051 files belonging to 2 classes.\n"
     ]
    }
   ],
   "source": [
    "\n",
    "# Imports\n",
    "import os, warnings\n",
    "import matplotlib.pyplot as plt\n",
    "from matplotlib import gridspec\n",
    "\n",
    "import numpy as np\n",
    "import tensorflow as tf\n",
    "from tensorflow.keras.preprocessing import image_dataset_from_directory\n",
    "\n",
    "# Reproducability\n",
    "def set_seed(seed=31415):\n",
    "    np.random.seed(seed)\n",
    "    tf.random.set_seed(seed)\n",
    "    os.environ['PYTHONHASHSEED'] = str(seed)\n",
    "    os.environ['TF_DETERMINISTIC_OPS'] = '1'\n",
    "set_seed()\n",
    "\n",
    "# Set Matplotlib defaults\n",
    "plt.rc('figure', autolayout=True)\n",
    "plt.rc('axes', labelweight='bold', labelsize='large',\n",
    "       titleweight='bold', titlesize=18, titlepad=10)\n",
    "plt.rc('image', cmap='magma')\n",
    "warnings.filterwarnings(\"ignore\") # to clean up output cells\n",
    "\n",
    "\n",
    "# Load training and validation sets\n",
    "ds_train_ = image_dataset_from_directory(\n",
    "    '../input/car-or-truck/train',\n",
    "    labels='inferred',\n",
    "    label_mode='binary',\n",
    "    image_size=[128, 128],\n",
    "    interpolation='nearest',\n",
    "    batch_size=64,\n",
    "    shuffle=True,\n",
    ")\n",
    "ds_valid_ = image_dataset_from_directory(\n",
    "    '../input/car-or-truck/valid',\n",
    "    labels='inferred',\n",
    "    label_mode='binary',\n",
    "    image_size=[128, 128],\n",
    "    interpolation='nearest',\n",
    "    batch_size=64,\n",
    "    shuffle=False,\n",
    ")\n",
    "\n",
    "# Data Pipeline\n",
    "def convert_to_float(image, label):\n",
    "    image = tf.image.convert_image_dtype(image, dtype=tf.float32)\n",
    "    return image, label\n",
    "\n",
    "AUTOTUNE = tf.data.experimental.AUTOTUNE\n",
    "ds_train = (\n",
    "    ds_train_\n",
    "    .map(convert_to_float)\n",
    "    .cache()\n",
    "    .prefetch(buffer_size=AUTOTUNE)\n",
    ")\n",
    "ds_valid = (\n",
    "    ds_valid_\n",
    "    .map(convert_to_float)\n",
    "    .cache()\n",
    "    .prefetch(buffer_size=AUTOTUNE)\n",
    ")\n"
   ]
  },
  {
   "cell_type": "markdown",
   "id": "c1562e41",
   "metadata": {
    "papermill": {
     "duration": 0.007896,
     "end_time": "2022-05-05T17:54:11.931475",
     "exception": false,
     "start_time": "2022-05-05T17:54:11.923579",
     "status": "completed"
    },
    "tags": []
   },
   "source": [
    "## Step 2 - Define Model ##\n",
    "\n",
    "To illustrate the effect of augmentation, we'll just add a couple of simple transformations to the model from Tutorial 1."
   ]
  },
  {
   "cell_type": "code",
   "execution_count": 2,
   "id": "5b5be11a",
   "metadata": {
    "execution": {
     "iopub.execute_input": "2022-05-05T17:54:11.948939Z",
     "iopub.status.busy": "2022-05-05T17:54:11.948620Z",
     "iopub.status.idle": "2022-05-05T17:54:13.808570Z",
     "shell.execute_reply": "2022-05-05T17:54:13.807804Z"
    },
    "papermill": {
     "duration": 1.870812,
     "end_time": "2022-05-05T17:54:13.810577",
     "exception": false,
     "start_time": "2022-05-05T17:54:11.939765",
     "status": "completed"
    },
    "tags": []
   },
   "outputs": [],
   "source": [
    "from tensorflow import keras\n",
    "from tensorflow.keras import layers\n",
    "# these are a new feature in TF 2.2\n",
    "from tensorflow.keras.layers.experimental import preprocessing\n",
    "\n",
    "\n",
    "pretrained_base = tf.keras.models.load_model(\n",
    "    '../input/cv-course-models/cv-course-models/vgg16-pretrained-base',\n",
    ")\n",
    "pretrained_base.trainable = False\n",
    "\n",
    "model = keras.Sequential([\n",
    "    # Preprocessing\n",
    "    preprocessing.RandomFlip('horizontal'), # flip left-to-right\n",
    "    preprocessing.RandomContrast(0.5), # contrast change by up to 50%\n",
    "    # Base\n",
    "    pretrained_base,\n",
    "    # Head\n",
    "    layers.Flatten(),\n",
    "    layers.Dense(6, activation='relu'),\n",
    "    layers.Dense(1, activation='sigmoid'),\n",
    "])"
   ]
  },
  {
   "cell_type": "markdown",
   "id": "89ccabdc",
   "metadata": {
    "papermill": {
     "duration": 0.008109,
     "end_time": "2022-05-05T17:54:13.827308",
     "exception": false,
     "start_time": "2022-05-05T17:54:13.819199",
     "status": "completed"
    },
    "tags": []
   },
   "source": [
    "## Step 3 - Train and Evaluate ##\n",
    "\n",
    "And now we'll start the training!"
   ]
  },
  {
   "cell_type": "code",
   "execution_count": 3,
   "id": "7165186f",
   "metadata": {
    "execution": {
     "iopub.execute_input": "2022-05-05T17:54:13.845250Z",
     "iopub.status.busy": "2022-05-05T17:54:13.844599Z",
     "iopub.status.idle": "2022-05-05T17:59:24.798075Z",
     "shell.execute_reply": "2022-05-05T17:59:24.797175Z"
    },
    "papermill": {
     "duration": 310.965405,
     "end_time": "2022-05-05T17:59:24.800756",
     "exception": false,
     "start_time": "2022-05-05T17:54:13.835351",
     "status": "completed"
    },
    "tags": []
   },
   "outputs": [
    {
     "name": "stderr",
     "output_type": "stream",
     "text": [
      "2022-05-05 17:54:13.890216: I tensorflow/compiler/mlir/mlir_graph_optimization_pass.cc:185] None of the MLIR Optimization Passes are enabled (registered 2)\n",
      "2022-05-05 17:54:16.932349: I tensorflow/stream_executor/cuda/cuda_dnn.cc:369] Loaded cuDNN version 8005\n"
     ]
    }
   ],
   "source": [
    "model.compile(\n",
    "    optimizer='adam',\n",
    "    loss='binary_crossentropy',\n",
    "    metrics=['binary_accuracy'],\n",
    ")\n",
    "\n",
    "history = model.fit(\n",
    "    ds_train,\n",
    "    validation_data=ds_valid,\n",
    "    epochs=30,\n",
    "    verbose=0,\n",
    ")"
   ]
  },
  {
   "cell_type": "code",
   "execution_count": 4,
   "id": "b7df8224",
   "metadata": {
    "execution": {
     "iopub.execute_input": "2022-05-05T17:59:24.823532Z",
     "iopub.status.busy": "2022-05-05T17:59:24.822960Z",
     "iopub.status.idle": "2022-05-05T17:59:25.383188Z",
     "shell.execute_reply": "2022-05-05T17:59:25.382549Z"
    },
    "papermill": {
     "duration": 0.573649,
     "end_time": "2022-05-05T17:59:25.385334",
     "exception": false,
     "start_time": "2022-05-05T17:59:24.811685",
     "status": "completed"
    },
    "tags": []
   },
   "outputs": [
    {
     "data": {
      "image/png": "[encoded data removed]",
      "text/plain": [
       "<Figure size 432x288 with 1 Axes>"
      ]
     },
     "metadata": {
      "needs_background": "light"
     },
     "output_type": "display_data"
    },
    {
     "data": {
      "image/png": "[encoded data removed]",
      "text/plain": [
       "<Figure size 432x288 with 1 Axes>"
      ]
     },
     "metadata": {
      "needs_background": "light"
     },
     "output_type": "display_data"
    }
   ],
   "source": [
    "import pandas as pd\n",
    "\n",
    "history_frame = pd.DataFrame(history.history)\n",
    "\n",
    "history_frame.loc[:, ['loss', 'val_loss']].plot()\n",
    "history_frame.loc[:, ['binary_accuracy', 'val_binary_accuracy']].plot();"
   ]
  },
  {
   "cell_type": "markdown",
   "id": "f7959eb1",
   "metadata": {
    "papermill": {
     "duration": 0.010874,
     "end_time": "2022-05-05T17:59:25.408359",
     "exception": false,
     "start_time": "2022-05-05T17:59:25.397485",
     "status": "completed"
    },
    "tags": []
   },
   "source": [
    "The training and validation curves in the model from Tutorial 1 diverged fairly quickly, suggesting that it could benefit from some regularization. The learning curves for this model were able to stay closer together, and we achieved some modest improvement in validation loss and accuracy. This suggests that the dataset did indeed benefit from the augmentation.\n",
    "\n",
    "# Your Turn #\n",
    "\n",
    "Move on to the [**Exercise**](https://www.kaggle.com/kernels/fork/11991328) to apply data augmentation to the custom convnet you built in Lesson 5. This will be your best model ever!"
   ]
  },
  {
   "cell_type": "markdown",
   "id": "519d654a",
   "metadata": {
    "papermill": {
     "duration": 0.010794,
     "end_time": "2022-05-05T17:59:25.430146",
     "exception": false,
     "start_time": "2022-05-05T17:59:25.419352",
     "status": "completed"
    },
    "tags": []
   },
   "source": [
    "---\n",
    "\n",
    "\n",
    "\n",
    "\n",
    "*Have questions or comments? Visit the [course discussion forum](https://www.kaggle.com/learn/computer-vision/discussion) to chat with other learners.*"
   ]
  }
 ],
 "metadata": {
  "jupytext": {
   "formats": "md,ipynb"
  },
  "kernelspec": {
   "display_name": "Python 3",
   "language": "python",
   "name": "python3"
  },
  "language_info": {
   "codemirror_mode": {
    "name": "ipython",
    "version": 3
   },
   "file_extension": ".py",
   "mimetype": "text/x-python",
   "name": "python",
   "nbconvert_exporter": "python",
   "pygments_lexer": "ipython3",
   "version": "3.7.12"
  },
  "papermill": {
   "default_parameters": {},
   "duration": 335.353189,
   "end_time": "2022-05-05T17:59:28.813750",
   "environment_variables": {},
   "exception": null,
   "input_path": "__notebook__.ipynb",
   "output_path": "__notebook__.ipynb",
   "parameters": {},
   "start_time": "2022-05-05T17:53:53.460561",
   "version": "2.3.4"
  }
 },
 "nbformat": 4,
 "nbformat_minor": 5
}
